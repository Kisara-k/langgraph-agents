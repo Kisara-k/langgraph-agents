{
  "cells": [
    {
      "cell_type": "markdown",
      "metadata": {},
      "source": [
        "## LangGraph Tool Bindings & Agent Creation Tutorial\n",
        "\n",
        "This notebook demonstrates advanced agent concepts: **tool binding**, **custom tool creation**, and **conditional execution** using LangGraph's StateGraph architecture.\n",
        "\n",
        "### Core Concepts:\n",
        "- **Tool Binding**: Connecting LLMs with external functions and APIs\n",
        "- **Custom Tools**: Creating domain-specific capabilities for agents\n",
        "- **Conditional Edges**: Dynamic workflow routing based on agent decisions\n",
        "- **ToolNode**: LangGraph's built-in tool execution handler\n",
        "\n",
        "### What You'll Build:\n",
        "A sophisticated agent that can search the web, perform mathematics, and route between different capabilities based on user queries."
      ]
    },
    {
      "cell_type": "markdown",
      "metadata": {},
      "source": [
        "## Environment Setup for Advanced Agents\n",
        "\n",
        "Install packages for building sophisticated tool-enabled agents with conditional logic and state management."
      ]
    },
    {
      "cell_type": "code",
      "execution_count": null,
      "metadata": {
        "id": "CrEJVfjvHDvC"
      },
      "outputs": [],
      "source": [
        "# !pip install -q langchain langchain-community langgraph openai langchain_openai"
      ]
    },
    {
      "cell_type": "markdown",
      "metadata": {},
      "source": [
        "## Core Imports and Dependencies\n",
        "\n",
        "Import essential components for building stateful agents:\n",
        "- **StateGraph**: Core orchestration for complex workflows\n",
        "- **ToolNode & tools_condition**: Built-in tool execution and routing logic  \n",
        "- **add_messages**: Message accumulation function for conversation state\n",
        "- **MessagesState**: Pre-defined state structure for chat-based agents"
      ]
    },
    {
      "cell_type": "code",
      "execution_count": 1,
      "metadata": {
        "id": "OGqH6zIhH3ZL"
      },
      "outputs": [],
      "source": [
        "from IPython.display import Image,display\n",
        "from langgraph.graph import StateGraph,START\n",
        "from langchain_openai import ChatOpenAI\n",
        "import requests\n",
        "from langchain_core.messages import SystemMessage, HumanMessage\n",
        "from langgraph.graph import MessagesState\n",
        "\n",
        "from langgraph.prebuilt import ToolNode, tools_condition\n",
        "\n",
        "from typing import Annotated\n",
        "from typing_extensions import TypedDict\n",
        "from langgraph.graph.message import add_messages"
      ]
    },
    {
      "cell_type": "markdown",
      "metadata": {},
      "source": [
        "## State Definition: Message Accumulation\n",
        "\n",
        "Define the agent's state structure for conversation management:\n",
        "\n",
        "- **messages**: List that accumulates all conversation turns (user inputs, agent responses, tool outputs)\n",
        "- **Annotated[list, add_messages]**: Type annotation that tells LangGraph how to merge state updates\n",
        "- **add_messages**: Built-in function that appends new messages while preserving conversation history\n",
        "\n",
        "This state structure enables multi-turn conversations and tool interaction tracking."
      ]
    },
    {
      "cell_type": "code",
      "execution_count": 2,
      "metadata": {
        "id": "ivIYzyb_IFd9"
      },
      "outputs": [],
      "source": [
        "class State(TypedDict):\n",
        "    messages: Annotated[list, add_messages]"
      ]
    },
    {
      "cell_type": "markdown",
      "metadata": {},
      "source": [
        "## Web Search Tool: DuckDuckGo Integration\n",
        "\n",
        "**DuckDuckGoSearchRun** provides privacy-focused web search capabilities:\n",
        "\n",
        "- **No API keys required**: Uses DuckDuckGo's public search interface\n",
        "- **Privacy-first**: No tracking or personal data collection\n",
        "- **Real-time information**: Access to current web content and news\n",
        "- **LangChain integration**: Seamlessly works with agent frameworks\n",
        "\n",
        "Test the tool independently to verify functionality before agent integration."
      ]
    },
    {
      "cell_type": "code",
      "execution_count": null,
      "metadata": {
        "colab": {
          "base_uri": "https://localhost:8080/"
        },
        "id": "22T0Y_7dIPjj",
        "outputId": "0456ed38-6d3f-44e7-9c28-964970b23e43"
      },
      "outputs": [
        {
          "name": "stdout",
          "output_type": "stream",
          "text": [
            "Requirement already satisfied: duckduckgo-search in /usr/local/lib/python3.11/dist-packages (7.3.2)\n",
            "Requirement already satisfied: click>=8.1.8 in /usr/local/lib/python3.11/dist-packages (from duckduckgo-search) (8.1.8)\n",
            "Requirement already satisfied: primp>=0.11.0 in /usr/local/lib/python3.11/dist-packages (from duckduckgo-search) (0.12.1)\n",
            "Requirement already satisfied: lxml>=5.3.0 in /usr/local/lib/python3.11/dist-packages (from duckduckgo-search) (5.3.0)\n"
          ]
        }
      ],
      "source": [
        "# !pip install -q duckduckgo-search <--- deprecated\n",
        "# !pip install -q ddgs"
      ]
    },
    {
      "cell_type": "code",
      "execution_count": 11,
      "metadata": {
        "colab": {
          "base_uri": "https://localhost:8080/",
          "height": 139
        },
        "id": "MwOf8Y5DIYvS",
        "outputId": "32663cc1-a8a5-416f-930d-d7b747f6c30e"
      },
      "outputs": [
        {
          "data": {
            "text/plain": [
              "[{'title': 'Early life and career of Barack Obama - Wikipedia',\n",
              "  'href': 'https://en.wikipedia.org/wiki/Early_life_and_career_of_Barack_Obama',\n",
              "  'body': \"Barack Obama , the 44th president of the United States, was born on August 4, 1961, in Honolulu, Hawaii, [1] to Barack Obama , Sr. (1936–1982; born in Oriang' Kogelo of Rachuonyo North District, [2] Kenya) and Stanley Ann Dunham, known as Ann (1942–1995; born in Wichita, Kansas, United States).\"},\n",
              " {'title': 'When Barry Became Barack - Newsweek What is Barack Obama \\' s full name ? - Answers What does the name \"Barack Hussein Obama \" means? | Lawlinguists Barack Obama | Biography, Parents, Education, Presidency, Books President Barack Obama | Barack Obama Presidential Library Early life and career of Barack Obama - Wikipedia Barack Obama | Biography, Parents, Education, Presidency, Books Early life and career of Barack Obama - Wikipedia Barack Obama | Biography, Parents, Education, Presidency ... Barack Obama: Biography, 44th U.S. President, Politician President Barack Obama | Barack Obama Presidential Library What does the name \"Barack Hussein Obama\" means ... What is Barack Obama\\'s full name? - Answers',\n",
              "  'href': 'https://www.newsweek.com/when-barry-became-barack-84255',\n",
              "  'body': \"Mar 22, 2008 · His father was also Barack, and also Barry: he chose the nickname when he came to America from Kenya on a scholarship in 1959. His was a typical immigrant transition. What is the full name of President Barack Obama? The full name of President Barack Obama is Barack Hussein Obama II . His real full name is Barack Hussein Obama II. He was named after his biological father, who never had much contact with him during his life but left him with a very unusual name. How did Barack Obama get his name? Barack Obama is named after his father , who was a Kenyan economist (called under the same name). He’s first real given name is “Barak”, also spelled Baraq (Not to be confused with Barack which is is a building or group of buildings that lodge soldiers), from the root B-R-Q, is a Hebrew name meaning “lightning” or “to shine”. When did Barack Obama become president? Barack Obama (born August 4, 1961, Honolulu, Hawaii, U.S.) is the 44th president of the United States ( 2009 –17) and the first African American to hold the office. Before winning the presidency, Obama represented Illinois in the U.S. Senate (2005–08). Who are Barack Obama parents? President Barack Obama Barack Hussein Obama II was born August 4, 1961, in Honolulu, Hawaii, to parents Barack H. Obama, Sr., and Stanley Ann Dunham . His parents divorced when he was 2 years old and he was raised by his mother, Ann, and maternal grandparents, Stanley and Madelyn Dunham. Where was Barack Obama born & raised? Barack Obama, the 44th president of the United States, was born on August 4, 1961, in Honolulu, Hawaii , to Barack Obama, Sr. (1936–1982; born in Oriang' Kogelo of Rachuonyo North District, Kenya) and Stanley Ann Dunham, known as Ann (1942–1995; born in Wichita, Kansas, United States). When was Barack Obama sworn in? Barack Obama: inauguration Barack Obama—with his wife, Michelle—being sworn in as the 44th president of the United States, January 20, 2009 . Barack Obama: timeline Key events in the life of Barack Obama. Barack Obama , the 44th president of the United States, was born on August 4, 1961, in Honolulu, Hawaii, [1] to Barack Obama , Sr. (1936–1982; born in Oriang' Kogelo of Rachuonyo North District, [2] Kenya) and Stanley Ann Dunham, known as Ann (1942–1995; born in Wichita, Kansas, United States). Barack Obama ’ s parents married while students at the University of Hawaii. His father, Barack Obama , Sr., a Kenyan, became an economist in the government of Kenya. His mother, S . Ann Dunham, became an anthropologist. They divorced in 1964. Ann then married (and later divorced) another foreign student, Indonesian Lolo Soetoro. Where did Barack Obama attend school? Barack Obama graduated from Punahou School, an elite academy in Honolulu, and then attended Occidental College before transferring to Columbia University and earning (1983) a B.A. in political science. He graduated (1991) magna cum laude from Harvard University’ s law school and was the first African American president of the Harvard Law Review. What did Barack Obama do for a living? After working as a writer and editor in Manhattan, Barack Obama became a community organizer in Chicago, lectured on constitutional law at the University of Chicago, worked as a civil rights attorney, and then served in the Illinois Senate (1997–2004), as a U. S . senator (2005–08), and as U. S . president (2009–17). What did Barack Obama write? See full list on britannica.com Obama ’ s father, Barack Obama , Sr., was a teenage goatherd in rural Kenya, won a scholarship to study in the United States, and eventually became a senior economist in the Kenyan government. Obama ’ s mother, S . Ann Dunham, grew up in Kansas, Texas, and Washington state before her family settled in Honolulu. In 1960 she and Barack Sr. met in a Russian language class at the University of Hawaii and married less than a year later. When Obama was age two, Barack Sr. left to study at Harvard University; shortly thereafter, in 1964, Ann and Barack Sr. divorced. ( Obama saw his father only one more time, during a brief visit when Obama was 10.) Later Ann remarried, this time to another foreign student, Lolo Soetoro from Indonesia, with whom she had a second child, Maya. Obama lived for several years in Jakarta with his half sister, mother, and stepfather. While there, Obama attended both a government-run school where he received some instruction in Islam and a Catholic private school where he took part in Christian schooling. He returned to Hawaii in 1971 and lived in a modest apartment, sometimes with his grandparents and sometimes with his mother (she remained for a time in Indonesia, returned to Hawaii, and then went abroad again—partly to pursue work on a Ph.D.—before divorcing Soetoro in 1980). For a brief period his mother was aided by government food stamps, but the family mostly lived a middle-class existence. In 1979 Obama graduated from Punahou School, an elite college preparatory academy in Honolulu. Britannica Quiz 43 Questions About Politics (Mostly in the United States) Compiled from Britannica’ s Quizzes Obama attended Occidental College in suburban Los Angeles for two years and then transferred to Columbia University in New York City, where in 1983 he received a bachelor’ s degree in political science. Influenced by professors who pushed him to take his studies more seriously, Obama experienced great intellectual growth during college and for a couple of years thereafter. He led a rather ascetic life and read works of literature and philosophy by William Shakespeare, Friedrich Nietzsche, Toni Morrison, and others. After serving for a couple of years as a writer and editor for Business International Corp., a research, publishing, and consulting firm in Manhattan, he took a position in 1985 as a community organizer on Chicago’ s largely impoverished Far South Side. He returned to school three years later and graduated magna cum laude in 1991 from Harvard University’ s law school, where he was the first African American to serve as president of the Harvard Law Review. While a summer associate in 1989 at the Chicago law firm of Sidley Austin, Obama had met Chicago native Michelle Robinson, a young lawyer at the firm. The two married in 1992. See full list on britannica.com May 1, 2023 · Barack Hussein Obama II was born on August 4, 1961, in Honolulu to Barack Obama Sr. and Ann Dunham. He has six half-siblings, including half-sister Maya Soetoro-Ng who he grew up with. President Barack Obama Personal President Barack Obama Barack Hussein Obama II was born August 4, 1961, in Honolulu, Hawaii, to parents Barack H. Obama , Sr., and Stanley Ann Dunham. His parents divorced when he was 2 years old and he was raised by his mother, Ann, and maternal grandparents, Stanley and Madelyn Dunham. He’s first real given name is “Barak”, also spelled Baraq (Not to be confused with Barack which is is a building or group of buildings that lodge soldiers), from the root B-R-Q, is a Hebrew name meaning “lightning” or “to shine”. Aug 18, 2023 · His full, birth name is Barack Hussein Obama , II. He was named after his father, Barack Hussein Obama , Sr., who died in 1982 in a car accident in Kenya; Barack Sr. was divorced from the...\"},\n",
              " {'title': 'Barack Obama | Biography, Parents, Education, Presidency ... Barack Obama: Biography, 44th U.S. President, Politician President Barack Obama | Barack Obama Presidential Library What does the name \"Barack Hussein Obama\" means ... What is Barack Obama\\'s full name? - Answers',\n",
              "  'href': 'https://www.britannica.com/biography/Barack-Obama',\n",
              "  'body': 'Barack Obama ’ s parents married while students at the University of Hawaii. His father, Barack Obama , Sr., a Kenyan, became an economist in the government of Kenya. His mother, S . Ann Dunham, became an anthropologist. They divorced in 1964. Ann then married (and later divorced) another foreign student, Indonesian Lolo Soetoro. Where did Barack Obama attend school? Barack Obama graduated from Punahou School, an elite academy in Honolulu, and then attended Occidental College before transferring to Columbia University and earning (1983) a B.A. in political science. He graduated (1991) magna cum laude from Harvard University’ s law school and was the first African American president of the Harvard Law Review. What did Barack Obama do for a living? After working as a writer and editor in Manhattan, Barack Obama became a community organizer in Chicago, lectured on constitutional law at the University of Chicago, worked as a civil rights attorney, and then served in the Illinois Senate (1997–2004), as a U. S . senator (2005–08), and as U. S . president (2009–17). What did Barack Obama write? See full list on britannica.com Obama ’ s father, Barack Obama , Sr., was a teenage goatherd in rural Kenya, won a scholarship to study in the United States, and eventually became a senior economist in the Kenyan government. Obama ’ s mother, S . Ann Dunham, grew up in Kansas, Texas, and Washington state before her family settled in Honolulu. In 1960 she and Barack Sr. met in a Russian language class at the University of Hawaii and married less than a year later. When Obama was age two, Barack Sr. left to study at Harvard University; shortly thereafter, in 1964, Ann and Barack Sr. divorced. ( Obama saw his father only one more time, during a brief visit when Obama was 10.) Later Ann remarried, this time to another foreign student, Lolo Soetoro from Indonesia, with whom she had a second child, Maya. Obama lived for several years in Jakarta with his half sister, mother, and stepfather. While there, Obama attended both a government-run school where he received some instruction in Islam and a Catholic private school where he took part in Christian schooling. He returned to Hawaii in 1971 and lived in a modest apartment, sometimes with his grandparents and sometimes with his mother (she remained for a time in Indonesia, returned to Hawaii, and then went abroad again—partly to pursue work on a Ph.D.—before divorcing Soetoro in 1980). For a brief period his mother was aided by government food stamps, but the family mostly lived a middle-class existence. In 1979 Obama graduated from Punahou School, an elite college preparatory academy in Honolulu. Britannica Quiz 43 Questions About Politics (Mostly in the United States) Compiled from Britannica’ s Quizzes Obama attended Occidental College in suburban Los Angeles for two years and then transferred to Columbia University in New York City, where in 1983 he received a bachelor’ s degree in political science. Influenced by professors who pushed him to take his studies more seriously, Obama experienced great intellectual growth during college and for a couple of years thereafter. He led a rather ascetic life and read works of literature and philosophy by William Shakespeare, Friedrich Nietzsche, Toni Morrison, and others. After serving for a couple of years as a writer and editor for Business International Corp., a research, publishing, and consulting firm in Manhattan, he took a position in 1985 as a community organizer on Chicago’ s largely impoverished Far South Side. He returned to school three years later and graduated magna cum laude in 1991 from Harvard University’ s law school, where he was the first African American to serve as president of the Harvard Law Review. While a summer associate in 1989 at the Chicago law firm of Sidley Austin, Obama had met Chicago native Michelle Robinson, a young lawyer at the firm. The two married in 1992. See full list on britannica.com May 1, 2023 · Barack Hussein Obama II was born on August 4, 1961, in Honolulu to Barack Obama Sr. and Ann Dunham. He has six half-siblings, including half-sister Maya Soetoro-Ng who he grew up with. President Barack Obama Personal President Barack Obama Barack Hussein Obama II was born August 4, 1961, in Honolulu, Hawaii, to parents Barack H. Obama , Sr., and Stanley Ann Dunham. His parents divorced when he was 2 years old and he was raised by his mother, Ann, and maternal grandparents, Stanley and Madelyn Dunham. He’s first real given name is “Barak”, also spelled Baraq (Not to be confused with Barack which is is a building or group of buildings that lodge soldiers), from the root B-R-Q, is a Hebrew name meaning “lightning” or “to shine”. Aug 18, 2023 · His full, birth name is Barack Hussein Obama , II. He was named after his father, Barack Hussein Obama , Sr., who died in 1982 in a car accident in Kenya; Barack Sr. was divorced from the...'},\n",
              " {'title': 'Barack Obama: Biography, 44th U.S. President, Politician President Barack Obama | Barack Obama Presidential Library What does the name \"Barack Hussein Obama\" means ... What is Barack Obama\\'s full name? - Answers',\n",
              "  'href': 'https://www.biography.com/political-figures/barack-obama',\n",
              "  'body': 'May 1, 2023 · Barack Hussein Obama II was born on August 4, 1961, in Honolulu to Barack Obama Sr. and Ann Dunham. He has six half-siblings, including half-sister Maya Soetoro-Ng who he grew up with. President Barack Obama Personal President Barack Obama Barack Hussein Obama II was born August 4, 1961, in Honolulu, Hawaii, to parents Barack H. Obama , Sr., and Stanley Ann Dunham. His parents divorced when he was 2 years old and he was raised by his mother, Ann, and maternal grandparents, Stanley and Madelyn Dunham. He’s first real given name is “Barak”, also spelled Baraq (Not to be confused with Barack which is is a building or group of buildings that lodge soldiers), from the root B-R-Q, is a Hebrew name meaning “lightning” or “to shine”. Aug 18, 2023 · His full, birth name is Barack Hussein Obama , II. He was named after his father, Barack Hussein Obama , Sr., who died in 1982 in a car accident in Kenya; Barack Sr. was divorced from the...'},\n",
              " {'title': 'President Barack Obama | Barack Obama Presidential Library',\n",
              "  'href': 'https://www.obamalibrary.gov/obamas/president-barack-obama',\n",
              "  'body': 'President Barack Obama Personal President Barack Obama Barack Hussein Obama II was born August 4, 1961, in Honolulu, Hawaii, to parents Barack H. Obama , Sr., and Stanley Ann Dunham. His parents divorced when he was 2 years old and he was raised by his mother, Ann, and maternal grandparents, Stanley and Madelyn Dunham.'}]"
            ]
          },
          "execution_count": 11,
          "metadata": {},
          "output_type": "execute_result"
        }
      ],
      "source": [
        "# from langchain.agents import DuckDuckGoSearchRun\n",
        "# search = DuckDuckGoSearchRun()\n",
        "# search.invoke(\"Obama's first name?\")\n",
        "\n",
        "from ddgs import DDGS\n",
        "results = DDGS().text(\"Obama's first name?\", max_results=5)\n",
        "results"
      ]
    },
    {
      "cell_type": "markdown",
      "metadata": {},
      "source": [
        "## Custom Tool Wrapper Functions\n",
        "\n",
        "Create custom wrapper functions to provide clean interfaces for tool binding:\n",
        "\n",
        "- **Function docstrings**: Become tool descriptions that LLMs use for decision-making\n",
        "- **Type hints**: Define expected parameter types for validation\n",
        "- **Error handling**: Wrap external APIs with consistent error management\n",
        "- **Standardized returns**: Ensure tools return expected data formats\n",
        "\n",
        "Well-designed tool wrappers improve agent reliability and performance."
      ]
    },
    {
      "cell_type": "code",
      "execution_count": 14,
      "metadata": {
        "colab": {
          "base_uri": "https://localhost:8080/"
        },
        "id": "-DAzhxeaIYoC",
        "outputId": "0b441ff0-454f-406c-f407-19a923f32a61"
      },
      "outputs": [
        {
          "name": "stdout",
          "output_type": "stream",
          "text": [
            "Wikipedia Intelligent agent - Wikipedia 3 weeks ago - Intelligent agents operate based on an objective function, which encapsulates their goals . They are designed to create and execute plans that maximize the expected value of this function upon completion. For example, a reinforcement learning agent has a reward function, which allows programmers ... IBM What Are AI Agents? | IBM July 28, 2025 - At the core of AI agents are large language models (LLMs). For this reason, AI agents are often referred to as LLM agents. Traditional LLMs, such as IBM® Granite® models, produce their responses based on the data used to train them and are bounded by knowledge and reasoning limitations. AWS What are AI Agents?- Agents in Artificial Intelligence Explained - AWS 2 days ago - What is AI agents how and why businesses use AI agents , and how to use AI agents with AWS. Google Cloud What are AI agents? Definition, examples, and types | Google Cloud This can involve machine learning techniques, optimization algorithms, or other forms of self-modification. AI assistants are AI agents designed as applications or products to collaborate directly with users and perform tasks by understanding and responding to natural human language and inputs . Microsoft News AI agents — what they are, and how they'll change the way we work - Source November 21, 2024 - That’s essentially what it sounds like: They’re experimenting with dividing up interactions in bits that can be stored and linked together by relevance for faster access, akin to a memory — like grouping conversations about a certain project so an agent can recall those details when you ...\n"
          ]
        }
      ],
      "source": [
        "# from langchain_community.tools import DuckDuckGoSearchRun\n",
        "\n",
        "# def search_duckduckgo(query: str):\n",
        "#     \"\"\"Searches DuckDuckGo using LangChain's DuckDuckGoSearchRun tool.\"\"\"\n",
        "#     search = DuckDuckGoSearchRun()\n",
        "#     return search.invoke(query)\n",
        "\n",
        "from ddgs import DDGS\n",
        "\n",
        "def search_duckduckgo(query: str):\n",
        "    \"\"\"Searches DuckDuckGo using the ddgs library.\"\"\"\n",
        "    results = DDGS().text(query, max_results=5)\n",
        "    # return ' '.join([f\"Title: {result['title']} Body: {result['body']}\" for result in results])\n",
        "    return ' '.join([f\"{result['title']} {result['body']}\" for result in results])\n",
        "\n",
        "# Example usage\n",
        "result = search_duckduckgo(\"what are AI agent\")\n",
        "print(result)"
      ]
    },
    {
      "cell_type": "markdown",
      "metadata": {},
      "source": [
        "## Mathematical Tools: Custom Function Creation\n",
        "\n",
        "Define mathematical operations as tools. **Custom tools** enable domain-specific capabilities:\n",
        "\n",
        "- **Clear function signatures**: Define exact input/output types\n",
        "- **Descriptive docstrings**: Help the LLM understand when to use each tool\n",
        "- **Simple, focused functions**: Each tool should have a single, clear purpose\n",
        "- **Type safety**: Proper typing prevents runtime errors during tool execution\n",
        "\n",
        "These mathematical tools will be bound to the LLM for computational tasks."
      ]
    },
    {
      "cell_type": "code",
      "execution_count": 15,
      "metadata": {
        "id": "_RWRl15NIxhv"
      },
      "outputs": [],
      "source": [
        "def multiply(a:int,b:int) -> int:\n",
        "    \"\"\"\n",
        "    Multiply a and b\n",
        "    \"\"\"\n",
        "    return a* b\n",
        "\n",
        "def add(a:int,b:int) -> int:\n",
        "    \"\"\"\n",
        "    Adds a and b\n",
        "    \"\"\"\n",
        "    return a + b"
      ]
    },
    {
      "cell_type": "code",
      "execution_count": 16,
      "metadata": {
        "id": "ZXmQdfkEJIZe"
      },
      "outputs": [],
      "source": [
        "from langchain_openai import ChatOpenAI\n",
        "from dotenv import load_dotenv\n",
        "load_dotenv()\n",
        "llm = ChatOpenAI(temperature=0.3, model=\"gpt-4.1-nano\")\n"
      ]
    },
    {
      "cell_type": "code",
      "execution_count": 17,
      "metadata": {
        "colab": {
          "base_uri": "https://localhost:8080/",
          "height": 35
        },
        "id": "qVgcPrKYJRJD",
        "outputId": "dd01d0ef-8d3c-4f0a-e5fe-e82dcdf80d53"
      },
      "outputs": [
        {
          "data": {
            "text/plain": [
              "'Hello! How can I assist you today?'"
            ]
          },
          "execution_count": 17,
          "metadata": {},
          "output_type": "execute_result"
        }
      ],
      "source": [
        "llm.invoke('hello').content"
      ]
    },
    {
      "cell_type": "markdown",
      "metadata": {},
      "source": [
        "## Tool Binding: Connecting LLM with Capabilities\n",
        "\n",
        "**Tool binding** registers all available tools with the LLM:\n",
        "\n",
        "- **Tool registration**: The LLM learns about each tool's purpose and parameters\n",
        "- **Function schemas**: Tools are converted to JSON schemas for the LLM\n",
        "- **Decision-making**: The LLM can now choose which tools to use based on user queries\n",
        "- **Multi-tool support**: Single LLM can access diverse capabilities (search, math, etc.)\n",
        "\n",
        "The bound LLM becomes an intelligent agent capable of using external tools."
      ]
    },
    {
      "cell_type": "code",
      "execution_count": 18,
      "metadata": {
        "id": "_SiCnEY4JWzE"
      },
      "outputs": [],
      "source": [
        "tools = [search_duckduckgo, add, multiply]\n",
        "\n",
        "llm_with_tools = llm.bind_tools(tools)"
      ]
    },
    {
      "cell_type": "markdown",
      "metadata": {},
      "source": [
        "## Chatbot Node: Agent Decision Making\n",
        "\n",
        "The **chatbot function** serves as the agent's reasoning center:\n",
        "\n",
        "- **State processing**: Receives conversation history and current message\n",
        "- **Tool decision**: Determines if tools are needed based on the query\n",
        "- **Response generation**: Either answers directly or generates tool calls\n",
        "- **State updates**: Returns new messages to maintain conversation flow\n",
        "\n",
        "This node embodies the agent's intelligence and decision-making capabilities."
      ]
    },
    {
      "cell_type": "code",
      "execution_count": 19,
      "metadata": {
        "id": "eqF4x1I7JsYA"
      },
      "outputs": [],
      "source": [
        "def chatbot(state: State):\n",
        "    return {\"messages\": [llm_with_tools.invoke(state[\"messages\"])]}"
      ]
    },
    {
      "cell_type": "markdown",
      "metadata": {},
      "source": [
        "## Graph Construction: Conditional Tool Execution\n",
        "\n",
        "Build a sophisticated workflow with **conditional routing**:\n",
        "\n",
        "- **Assistant node**: Main reasoning and decision-making hub\n",
        "- **Tools node**: Executes tool calls when needed  \n",
        "- **Conditional edges**: Routes based on agent decisions (direct response vs. tool usage)\n",
        "- **tools_condition**: Built-in function that determines if tool execution is required\n",
        "- **Feedback loop**: Tools results flow back to assistant for final response\n",
        "\n",
        "This creates a ReAct (Reason-Act-Observe) pattern with automatic tool routing."
      ]
    },
    {
      "cell_type": "code",
      "execution_count": 20,
      "metadata": {
        "id": "Pvn_gwVlKAll"
      },
      "outputs": [],
      "source": [
        "from langgraph.prebuilt import ToolNode, tools_condition\n",
        "\n",
        "graph_builder = StateGraph(State)\n",
        "\n",
        "# Define nodes\n",
        "graph_builder.add_node(\"assistant\",chatbot)\n",
        "graph_builder.add_node(\"tools\",ToolNode(tools))\n",
        "\n",
        "#define edges\n",
        "graph_builder.add_edge(START,\"assistant\")\n",
        "graph_builder.add_conditional_edges(\"assistant\",tools_condition)\n",
        "graph_builder.add_edge(\"tools\",\"assistant\")\n",
        "\n",
        "react_graph=graph_builder.compile()"
      ]
    },
    {
      "cell_type": "code",
      "execution_count": 21,
      "metadata": {
        "colab": {
          "base_uri": "https://localhost:8080/",
          "height": 266
        },
        "id": "HaRoh_yFKl1R",
        "outputId": "c5384d80-b98b-447d-9ca4-7c274b8d3849"
      },
      "outputs": [
        {
          "data": {
            "image/png": "[encoded data removed]",
            "text/plain": [
              "<IPython.core.display.Image object>"
            ]
          },
          "metadata": {},
          "output_type": "display_data"
        }
      ],
      "source": [
        "# To see the graph’s connection visually\n",
        "\n",
        "display(Image(react_graph.get_graph().draw_mermaid_png()))"
      ]
    },
    {
      "cell_type": "markdown",
      "metadata": {},
      "source": [
        "## Testing Multi-Tool Agent Capabilities\n",
        "\n",
        "Test the agent with a complex query requiring multiple tools:\n",
        "1. **Web search**: Get weather information for Delhi\n",
        "2. **Mathematical operations**: Multiply result by 2, then add 5\n",
        "3. **Workflow coordination**: Chain multiple tool calls seamlessly\n",
        "\n",
        "This demonstrates the agent's ability to break down complex tasks and use appropriate tools in sequence."
      ]
    },
    {
      "cell_type": "code",
      "execution_count": 24,
      "metadata": {
        "colab": {
          "base_uri": "https://localhost:8080/"
        },
        "id": "uDxvi3DhKmdL",
        "outputId": "bee07501-229a-4a46-85f5-522393c7f80e"
      },
      "outputs": [
        {
          "name": "stdout",
          "output_type": "stream",
          "text": [
            "[HumanMessage(content='what is the weather in Galle, Sri Lanka. Multiply it by 2 and add 5.', additional_kwargs={}, response_metadata={}, id='95101eb3-66f3-4e97-841c-de96df48e4cb'), AIMessage(content='', additional_kwargs={'tool_calls': [{'id': 'call_dAmrRjRFbj3vxQehcXUcytqB', 'function': {'arguments': '{\"query\":\"weather in Galle, Sri Lanka\"}', 'name': 'search_duckduckgo'}, 'type': 'function'}], 'refusal': None}, response_metadata={'token_usage': {'completion_tokens': 23, 'prompt_tokens': 115, 'total_tokens': 138, 'completion_tokens_details': {'accepted_prediction_tokens': 0, 'audio_tokens': 0, 'reasoning_tokens': 0, 'rejected_prediction_tokens': 0}, 'prompt_tokens_details': {'audio_tokens': 0, 'cached_tokens': 0}}, 'model_name': 'gpt-4.1-nano-2025-04-14', 'system_fingerprint': 'fp_c4c155951e', 'id': 'chatcmpl-C9izPJS1U5N0WQFH86f6GH2enOgZ0', 'service_tier': 'default', 'finish_reason': 'tool_calls', 'logprobs': None}, id='run--809a1a66-ac32-4251-b926-b86adb2faecc-0', tool_calls=[{'name': 'search_duckduckgo', 'args': {'query': 'weather in Galle, Sri Lanka'}, 'id': 'call_dAmrRjRFbj3vxQehcXUcytqB', 'type': 'tool_call'}], usage_metadata={'input_tokens': 115, 'output_tokens': 23, 'total_tokens': 138, 'input_token_details': {'audio': 0, 'cache_read': 0}, 'output_token_details': {'audio': 0, 'reasoning': 0}}), ToolMessage(content='The Weather Channel 10-Day Weather Forecast for Galle, Galle, Sri Lanka - The Weather Channel | weather.com Be prepared with the most accurate 10-day forecast for Galle , Galle , Sri Lanka with highs, lows, chance of precipitation from The Weather Channel and Weather .com AccuWeather Galle, Southern, Sri Lanka Weather Forecast | AccuWeather Galle , Southern, Sri Lanka Weather Forecast, with current conditions, wind, air quality, and what to expect for the next 3 days. Met Office Galle (Sri Lanka) weather - Met Office Galle 7 day weather forecast including weather warnings, temperature, rain, wind, visibility, humidity and UV BBC Galle - BBC Weather BBC Weather in association with MeteoGroup, external · All times are India Standard Time (Asia/Colombo, GMT+5:30) unless otherwise stated The Weather Channel Weather forecast and conditions for Galle, Galle, Sri Lanka - The Weather Channel | weather.com Today’s and tonight’s Galle , Galle , Sri Lankaweather forecast, weather conditions and Doppler radar from The Weather Channel and Weather .com', name='search_duckduckgo', id='41875559-225b-49f6-881d-04810a238cc7', tool_call_id='call_dAmrRjRFbj3vxQehcXUcytqB'), AIMessage(content='', additional_kwargs={'tool_calls': [{'id': 'call_wSSyxcTJb4hhzFPgjVpM1WYy', 'function': {'arguments': '{\"query\":\"current weather in Galle, Sri Lanka\"}', 'name': 'search_duckduckgo'}, 'type': 'function'}], 'refusal': None}, response_metadata={'token_usage': {'completion_tokens': 24, 'prompt_tokens': 379, 'total_tokens': 403, 'completion_tokens_details': {'accepted_prediction_tokens': 0, 'audio_tokens': 0, 'reasoning_tokens': 0, 'rejected_prediction_tokens': 0}, 'prompt_tokens_details': {'audio_tokens': 0, 'cached_tokens': 0}}, 'model_name': 'gpt-4.1-nano-2025-04-14', 'system_fingerprint': 'fp_c4c155951e', 'id': 'chatcmpl-C9izS6G95hIZ1sVfg9DWrtkKAq4zY', 'service_tier': 'default', 'finish_reason': 'tool_calls', 'logprobs': None}, id='run--2863e63b-a5bf-43b0-824f-fe3e3ca6b0f7-0', tool_calls=[{'name': 'search_duckduckgo', 'args': {'query': 'current weather in Galle, Sri Lanka'}, 'id': 'call_wSSyxcTJb4hhzFPgjVpM1WYy', 'type': 'tool_call'}], usage_metadata={'input_tokens': 379, 'output_tokens': 24, 'total_tokens': 403, 'input_token_details': {'audio': 0, 'cache_read': 0}, 'output_token_details': {'audio': 0, 'reasoning': 0}}), ToolMessage(content=\"Current Weather in Galle Sri Lanka Day 2: Galle International Current Weather in Galle Sri Lanka Day 2: Galle International Stadium weather forecast for SL vs AUS 1st Test ... Current Weather in Galle Sri Lanka ... weather galle - sri lanka - weatheronline Current Weather ... In the next few days, it's partly cloudy. ... Current weather weather galle - sri lanka - weatheronline Current Weather ... Expect a mix of sun and clouds in the days to come. ... Current weather Galle (Sri Lanka) weather - Met Office Everything you need to know about the forecast, and making the most of the weather . ... Galle ( Sri Lanka ) weather ... includes a 'Use my location' ... Galle Weather averages & monthly Temperatures | Sri Lanka | ... shows the average monthly peak daytime temperatures at Galle ... Maximum and minimum daily temperatures in Galle (degrees centigrade and fahrenheit)\", name='search_duckduckgo', id='d4532b74-af29-4a9f-b30e-24cd4f4b2af2', tool_call_id='call_wSSyxcTJb4hhzFPgjVpM1WYy'), AIMessage(content='', additional_kwargs={'tool_calls': [{'id': 'call_6eWQxuf5ycr1y50bu8Ri2XbQ', 'function': {'arguments': '{\"query\": \"current temperature in Galle, Sri Lanka\"}', 'name': 'search_duckduckgo'}, 'type': 'function'}, {'id': 'call_1jfGfeAzzvSP85b0ozGAqcFZ', 'function': {'arguments': '{\"query\": \"current weather conditions in Galle, Sri Lanka\"}', 'name': 'search_duckduckgo'}, 'type': 'function'}], 'refusal': None}, response_metadata={'token_usage': {'completion_tokens': 65, 'prompt_tokens': 602, 'total_tokens': 667, 'completion_tokens_details': {'accepted_prediction_tokens': 0, 'audio_tokens': 0, 'reasoning_tokens': 0, 'rejected_prediction_tokens': 0}, 'prompt_tokens_details': {'audio_tokens': 0, 'cached_tokens': 0}}, 'model_name': 'gpt-4.1-nano-2025-04-14', 'system_fingerprint': 'fp_c4c155951e', 'id': 'chatcmpl-C9izVWM2ZEOnmfraP0xLLlSvn84Q0', 'service_tier': 'default', 'finish_reason': 'tool_calls', 'logprobs': None}, id='run--5fdfbe22-b54d-4daa-b6de-13f808c1f23e-0', tool_calls=[{'name': 'search_duckduckgo', 'args': {'query': 'current temperature in Galle, Sri Lanka'}, 'id': 'call_6eWQxuf5ycr1y50bu8Ri2XbQ', 'type': 'tool_call'}, {'name': 'search_duckduckgo', 'args': {'query': 'current weather conditions in Galle, Sri Lanka'}, 'id': 'call_1jfGfeAzzvSP85b0ozGAqcFZ', 'type': 'tool_call'}], usage_metadata={'input_tokens': 602, 'output_tokens': 65, 'total_tokens': 667, 'input_token_details': {'audio': 0, 'cache_read': 0}, 'output_token_details': {'audio': 0, 'reasoning': 0}}), ToolMessage(content='Galle - Wikipedia Galle is a major city on the southwestern tip of Sri Lanka , 119 km south of Colombo. Galle is the provincial capital and largest city of Southern Province, Sri Lanka and is the capital of Galle District. Galle was known as Gimhathiththa before the ar... Galle , Sri Lanka - Long term weather forecast for Galle 2025 Sri Lanka has a lot to offer for hikers and business travellers. Firstly you should find out about the weather conditions. Hikersbay presents current and long-term weather forecast for Galle . Galle weather — today, tomorrow & daily weather forecast Galle weather (Southern, Sri Lanka ). Current weather, today, tomorrow and daily weather forecast for Galle : temperature , precipitation, wind, pressure, humidity of Galle / Sri Lanka and for any plase of the World. Sea Water temperature in Galle Detailed information about the current sea water temperature in Galle . The trend over the last two weeks, daily averages, and precise forecast of the temperature changes. Weather in Galle Sri Lanka | India Travel Forum Weather in Galle in Sri Lanka . Galle is a small town, just under 17 kilometres in distance, from one point to the other. The Laccadive Sea is located to its west, while the town of Unawatuna is located to its southeastern side.', name='search_duckduckgo', id='2b604af6-1dbb-47d6-8b25-0653c9c8e837', tool_call_id='call_6eWQxuf5ycr1y50bu8Ri2XbQ'), ToolMessage(content='Galle - Wikipedia Galle is a major city on the southwestern tip of Sri Lanka , 119 km south of Colombo. Galle is the provincial capital and largest city of Southern Province, Sri Lanka and is the capital of Galle District. Galle was known as Gimhathiththa before the ar... Weather in Galle Sri Lanka , Galle Sri Lanka Weather Forecast... Get the current weather conditions for Galle Sri Lanka , Sri Lanka for the day.Extended Forecast in Galle , Sri Lanka . 05 PM. light rain. Climate Galle ( Galle District), averages - Weather and Climate Climate and average weather for Galle ( Galle District), Sri Lanka displayed in graphs. Tangalle, Sri Lanka 14 day weather forecast Currently : 29 °C. Overcast. ( Weather station: Galle , Sri Lanka ). See more current weather . Weather in Galle Sri Lanka | India Travel Forum Weather in Galle in Sri Lanka . Galle is a small town, just under 17 kilometres in distance, from one point to the other. The Laccadive Sea is located to its west, while the town of Unawatuna is located to its southeastern side.', name='search_duckduckgo', id='dbe75886-698b-46ca-b4be-5a800989f9f1', tool_call_id='call_1jfGfeAzzvSP85b0ozGAqcFZ'), AIMessage(content='The current temperature in Galle, Sri Lanka is approximately 29°C. Now, I will multiply this temperature by 2 and then add 5.', additional_kwargs={'tool_calls': [{'id': 'call_QYc4GXy47vNaDIDjXVQte2RZ', 'function': {'arguments': '{\"a\": 29, \"b\": 2}', 'name': 'multiply'}, 'type': 'function'}, {'id': 'call_09hWrzzLXrilDZIvOmH6astO', 'function': {'arguments': '{\"a\": 29, \"b\": 5}', 'name': 'add'}, 'type': 'function'}], 'refusal': None}, response_metadata={'token_usage': {'completion_tokens': 82, 'prompt_tokens': 1206, 'total_tokens': 1288, 'completion_tokens_details': {'accepted_prediction_tokens': 0, 'audio_tokens': 0, 'reasoning_tokens': 0, 'rejected_prediction_tokens': 0}, 'prompt_tokens_details': {'audio_tokens': 0, 'cached_tokens': 0}}, 'model_name': 'gpt-4.1-nano-2025-04-14', 'system_fingerprint': 'fp_c4c155951e', 'id': 'chatcmpl-C9izYHwxWh5XpD08XfA0coxDHUABe', 'service_tier': 'default', 'finish_reason': 'tool_calls', 'logprobs': None}, id='run--95f2c24d-b50d-468c-8501-f0e9a2fe117f-0', tool_calls=[{'name': 'multiply', 'args': {'a': 29, 'b': 2}, 'id': 'call_QYc4GXy47vNaDIDjXVQte2RZ', 'type': 'tool_call'}, {'name': 'add', 'args': {'a': 29, 'b': 5}, 'id': 'call_09hWrzzLXrilDZIvOmH6astO', 'type': 'tool_call'}], usage_metadata={'input_tokens': 1206, 'output_tokens': 82, 'total_tokens': 1288, 'input_token_details': {'audio': 0, 'cache_read': 0}, 'output_token_details': {'audio': 0, 'reasoning': 0}}), ToolMessage(content='58', name='multiply', id='d5e9143e-e21c-4dd5-afdb-c1b1152bec26', tool_call_id='call_QYc4GXy47vNaDIDjXVQte2RZ'), ToolMessage(content='34', name='add', id='ae791f80-67ba-4044-b591-f6d14b2a787f', tool_call_id='call_09hWrzzLXrilDZIvOmH6astO'), AIMessage(content='The result of multiplying the current temperature (29°C) by 2 is 58, and after adding 5, the total is 34.', additional_kwargs={'refusal': None}, response_metadata={'token_usage': {'completion_tokens': 31, 'prompt_tokens': 1307, 'total_tokens': 1338, 'completion_tokens_details': {'accepted_prediction_tokens': 0, 'audio_tokens': 0, 'reasoning_tokens': 0, 'rejected_prediction_tokens': 0}, 'prompt_tokens_details': {'audio_tokens': 0, 'cached_tokens': 1152}}, 'model_name': 'gpt-4.1-nano-2025-04-14', 'system_fingerprint': 'fp_c4c155951e', 'id': 'chatcmpl-C9izZVGTdeS8UA1DcNhLWObzsqFOi', 'service_tier': 'default', 'finish_reason': 'stop', 'logprobs': None}, id='run--fdf0ae98-6361-436a-91b3-8fabd0922ee5-0', usage_metadata={'input_tokens': 1307, 'output_tokens': 31, 'total_tokens': 1338, 'input_token_details': {'audio': 0, 'cache_read': 1152}, 'output_token_details': {'audio': 0, 'reasoning': 0}})]\n"
          ]
        }
      ],
      "source": [
        "response = react_graph.invoke({\"messages\": [HumanMessage(content=\"what is the weather in Galle, Sri Lanka. Multiply it by 2 and add 5.\")]})\n",
        "print(response[\"messages\"])"
      ]
    },
    {
      "cell_type": "code",
      "execution_count": 25,
      "metadata": {},
      "outputs": [
        {
          "data": {
            "text/html": [
              "<div>\n",
              "<style scoped>\n",
              "    .dataframe tbody tr th:only-of-type {\n",
              "        vertical-align: middle;\n",
              "    }\n",
              "\n",
              "    .dataframe tbody tr th {\n",
              "        vertical-align: top;\n",
              "    }\n",
              "\n",
              "    .dataframe thead th {\n",
              "        text-align: right;\n",
              "    }\n",
              "</style>\n",
              "<table border=\"1\" class=\"dataframe\">\n",
              "  <thead>\n",
              "    <tr style=\"text-align: right;\">\n",
              "      <th></th>\n",
              "      <th>content</th>\n",
              "      <th>additional_kwargs</th>\n",
              "      <th>response_metadata</th>\n",
              "      <th>type</th>\n",
              "      <th>name</th>\n",
              "      <th>id</th>\n",
              "      <th>example</th>\n",
              "      <th>tool_calls</th>\n",
              "      <th>invalid_tool_calls</th>\n",
              "      <th>usage_metadata</th>\n",
              "      <th>tool_call_id</th>\n",
              "      <th>artifact</th>\n",
              "      <th>status</th>\n",
              "    </tr>\n",
              "  </thead>\n",
              "  <tbody>\n",
              "    <tr>\n",
              "      <th>0</th>\n",
              "      <td>what is the weather in Galle, Sri Lanka. Multi...</td>\n",
              "      <td>{}</td>\n",
              "      <td>{}</td>\n",
              "      <td>human</td>\n",
              "      <td>None</td>\n",
              "      <td>95101eb3-66f3-4e97-841c-de96df48e4cb</td>\n",
              "      <td>False</td>\n",
              "      <td>NaN</td>\n",
              "      <td>NaN</td>\n",
              "      <td>NaN</td>\n",
              "      <td>NaN</td>\n",
              "      <td>NaN</td>\n",
              "      <td>NaN</td>\n",
              "    </tr>\n",
              "    <tr>\n",
              "      <th>1</th>\n",
              "      <td></td>\n",
              "      <td>{'tool_calls': [{'id': 'call_dAmrRjRFbj3vxQehc...</td>\n",
              "      <td>{'token_usage': {'completion_tokens': 23, 'pro...</td>\n",
              "      <td>ai</td>\n",
              "      <td>None</td>\n",
              "      <td>run--809a1a66-ac32-4251-b926-b86adb2faecc-0</td>\n",
              "      <td>False</td>\n",
              "      <td>[{'name': 'search_duckduckgo', 'args': {'query...</td>\n",
              "      <td>[]</td>\n",
              "      <td>{'input_tokens': 115, 'output_tokens': 23, 'to...</td>\n",
              "      <td>NaN</td>\n",
              "      <td>NaN</td>\n",
              "      <td>NaN</td>\n",
              "    </tr>\n",
              "    <tr>\n",
              "      <th>2</th>\n",
              "      <td>The Weather Channel 10-Day Weather Forecast fo...</td>\n",
              "      <td>{}</td>\n",
              "      <td>{}</td>\n",
              "      <td>tool</td>\n",
              "      <td>search_duckduckgo</td>\n",
              "      <td>41875559-225b-49f6-881d-04810a238cc7</td>\n",
              "      <td>NaN</td>\n",
              "      <td>NaN</td>\n",
              "      <td>NaN</td>\n",
              "      <td>NaN</td>\n",
              "      <td>call_dAmrRjRFbj3vxQehcXUcytqB</td>\n",
              "      <td>NaN</td>\n",
              "      <td>success</td>\n",
              "    </tr>\n",
              "    <tr>\n",
              "      <th>3</th>\n",
              "      <td></td>\n",
              "      <td>{'tool_calls': [{'id': 'call_wSSyxcTJb4hhzFPgj...</td>\n",
              "      <td>{'token_usage': {'completion_tokens': 24, 'pro...</td>\n",
              "      <td>ai</td>\n",
              "      <td>None</td>\n",
              "      <td>run--2863e63b-a5bf-43b0-824f-fe3e3ca6b0f7-0</td>\n",
              "      <td>False</td>\n",
              "      <td>[{'name': 'search_duckduckgo', 'args': {'query...</td>\n",
              "      <td>[]</td>\n",
              "      <td>{'input_tokens': 379, 'output_tokens': 24, 'to...</td>\n",
              "      <td>NaN</td>\n",
              "      <td>NaN</td>\n",
              "      <td>NaN</td>\n",
              "    </tr>\n",
              "    <tr>\n",
              "      <th>4</th>\n",
              "      <td>Current Weather in Galle Sri Lanka Day 2: Gall...</td>\n",
              "      <td>{}</td>\n",
              "      <td>{}</td>\n",
              "      <td>tool</td>\n",
              "      <td>search_duckduckgo</td>\n",
              "      <td>d4532b74-af29-4a9f-b30e-24cd4f4b2af2</td>\n",
              "      <td>NaN</td>\n",
              "      <td>NaN</td>\n",
              "      <td>NaN</td>\n",
              "      <td>NaN</td>\n",
              "      <td>call_wSSyxcTJb4hhzFPgjVpM1WYy</td>\n",
              "      <td>NaN</td>\n",
              "      <td>success</td>\n",
              "    </tr>\n",
              "    <tr>\n",
              "      <th>5</th>\n",
              "      <td></td>\n",
              "      <td>{'tool_calls': [{'id': 'call_6eWQxuf5ycr1y50bu...</td>\n",
              "      <td>{'token_usage': {'completion_tokens': 65, 'pro...</td>\n",
              "      <td>ai</td>\n",
              "      <td>None</td>\n",
              "      <td>run--5fdfbe22-b54d-4daa-b6de-13f808c1f23e-0</td>\n",
              "      <td>False</td>\n",
              "      <td>[{'name': 'search_duckduckgo', 'args': {'query...</td>\n",
              "      <td>[]</td>\n",
              "      <td>{'input_tokens': 602, 'output_tokens': 65, 'to...</td>\n",
              "      <td>NaN</td>\n",
              "      <td>NaN</td>\n",
              "      <td>NaN</td>\n",
              "    </tr>\n",
              "    <tr>\n",
              "      <th>6</th>\n",
              "      <td>Galle - Wikipedia Galle is a major city on the...</td>\n",
              "      <td>{}</td>\n",
              "      <td>{}</td>\n",
              "      <td>tool</td>\n",
              "      <td>search_duckduckgo</td>\n",
              "      <td>2b604af6-1dbb-47d6-8b25-0653c9c8e837</td>\n",
              "      <td>NaN</td>\n",
              "      <td>NaN</td>\n",
              "      <td>NaN</td>\n",
              "      <td>NaN</td>\n",
              "      <td>call_6eWQxuf5ycr1y50bu8Ri2XbQ</td>\n",
              "      <td>NaN</td>\n",
              "      <td>success</td>\n",
              "    </tr>\n",
              "    <tr>\n",
              "      <th>7</th>\n",
              "      <td>Galle - Wikipedia Galle is a major city on the...</td>\n",
              "      <td>{}</td>\n",
              "      <td>{}</td>\n",
              "      <td>tool</td>\n",
              "      <td>search_duckduckgo</td>\n",
              "      <td>dbe75886-698b-46ca-b4be-5a800989f9f1</td>\n",
              "      <td>NaN</td>\n",
              "      <td>NaN</td>\n",
              "      <td>NaN</td>\n",
              "      <td>NaN</td>\n",
              "      <td>call_1jfGfeAzzvSP85b0ozGAqcFZ</td>\n",
              "      <td>NaN</td>\n",
              "      <td>success</td>\n",
              "    </tr>\n",
              "    <tr>\n",
              "      <th>8</th>\n",
              "      <td>The current temperature in Galle, Sri Lanka is...</td>\n",
              "      <td>{'tool_calls': [{'id': 'call_QYc4GXy47vNaDIDjX...</td>\n",
              "      <td>{'token_usage': {'completion_tokens': 82, 'pro...</td>\n",
              "      <td>ai</td>\n",
              "      <td>None</td>\n",
              "      <td>run--95f2c24d-b50d-468c-8501-f0e9a2fe117f-0</td>\n",
              "      <td>False</td>\n",
              "      <td>[{'name': 'multiply', 'args': {'a': 29, 'b': 2...</td>\n",
              "      <td>[]</td>\n",
              "      <td>{'input_tokens': 1206, 'output_tokens': 82, 't...</td>\n",
              "      <td>NaN</td>\n",
              "      <td>NaN</td>\n",
              "      <td>NaN</td>\n",
              "    </tr>\n",
              "    <tr>\n",
              "      <th>9</th>\n",
              "      <td>58</td>\n",
              "      <td>{}</td>\n",
              "      <td>{}</td>\n",
              "      <td>tool</td>\n",
              "      <td>multiply</td>\n",
              "      <td>d5e9143e-e21c-4dd5-afdb-c1b1152bec26</td>\n",
              "      <td>NaN</td>\n",
              "      <td>NaN</td>\n",
              "      <td>NaN</td>\n",
              "      <td>NaN</td>\n",
              "      <td>call_QYc4GXy47vNaDIDjXVQte2RZ</td>\n",
              "      <td>NaN</td>\n",
              "      <td>success</td>\n",
              "    </tr>\n",
              "    <tr>\n",
              "      <th>10</th>\n",
              "      <td>34</td>\n",
              "      <td>{}</td>\n",
              "      <td>{}</td>\n",
              "      <td>tool</td>\n",
              "      <td>add</td>\n",
              "      <td>ae791f80-67ba-4044-b591-f6d14b2a787f</td>\n",
              "      <td>NaN</td>\n",
              "      <td>NaN</td>\n",
              "      <td>NaN</td>\n",
              "      <td>NaN</td>\n",
              "      <td>call_09hWrzzLXrilDZIvOmH6astO</td>\n",
              "      <td>NaN</td>\n",
              "      <td>success</td>\n",
              "    </tr>\n",
              "    <tr>\n",
              "      <th>11</th>\n",
              "      <td>The result of multiplying the current temperat...</td>\n",
              "      <td>{'refusal': None}</td>\n",
              "      <td>{'token_usage': {'completion_tokens': 31, 'pro...</td>\n",
              "      <td>ai</td>\n",
              "      <td>None</td>\n",
              "      <td>run--fdf0ae98-6361-436a-91b3-8fabd0922ee5-0</td>\n",
              "      <td>False</td>\n",
              "      <td>[]</td>\n",
              "      <td>[]</td>\n",
              "      <td>{'input_tokens': 1307, 'output_tokens': 31, 't...</td>\n",
              "      <td>NaN</td>\n",
              "      <td>NaN</td>\n",
              "      <td>NaN</td>\n",
              "    </tr>\n",
              "  </tbody>\n",
              "</table>\n",
              "</div>"
            ],
            "text/plain": [
              "                                              content  \\\n",
              "0   what is the weather in Galle, Sri Lanka. Multi...   \n",
              "1                                                       \n",
              "2   The Weather Channel 10-Day Weather Forecast fo...   \n",
              "3                                                       \n",
              "4   Current Weather in Galle Sri Lanka Day 2: Gall...   \n",
              "5                                                       \n",
              "6   Galle - Wikipedia Galle is a major city on the...   \n",
              "7   Galle - Wikipedia Galle is a major city on the...   \n",
              "8   The current temperature in Galle, Sri Lanka is...   \n",
              "9                                                  58   \n",
              "10                                                 34   \n",
              "11  The result of multiplying the current temperat...   \n",
              "\n",
              "                                    additional_kwargs  \\\n",
              "0                                                  {}   \n",
              "1   {'tool_calls': [{'id': 'call_dAmrRjRFbj3vxQehc...   \n",
              "2                                                  {}   \n",
              "3   {'tool_calls': [{'id': 'call_wSSyxcTJb4hhzFPgj...   \n",
              "4                                                  {}   \n",
              "5   {'tool_calls': [{'id': 'call_6eWQxuf5ycr1y50bu...   \n",
              "6                                                  {}   \n",
              "7                                                  {}   \n",
              "8   {'tool_calls': [{'id': 'call_QYc4GXy47vNaDIDjX...   \n",
              "9                                                  {}   \n",
              "10                                                 {}   \n",
              "11                                  {'refusal': None}   \n",
              "\n",
              "                                    response_metadata   type  \\\n",
              "0                                                  {}  human   \n",
              "1   {'token_usage': {'completion_tokens': 23, 'pro...     ai   \n",
              "2                                                  {}   tool   \n",
              "3   {'token_usage': {'completion_tokens': 24, 'pro...     ai   \n",
              "4                                                  {}   tool   \n",
              "5   {'token_usage': {'completion_tokens': 65, 'pro...     ai   \n",
              "6                                                  {}   tool   \n",
              "7                                                  {}   tool   \n",
              "8   {'token_usage': {'completion_tokens': 82, 'pro...     ai   \n",
              "9                                                  {}   tool   \n",
              "10                                                 {}   tool   \n",
              "11  {'token_usage': {'completion_tokens': 31, 'pro...     ai   \n",
              "\n",
              "                 name                                           id example  \\\n",
              "0                None         95101eb3-66f3-4e97-841c-de96df48e4cb   False   \n",
              "1                None  run--809a1a66-ac32-4251-b926-b86adb2faecc-0   False   \n",
              "2   search_duckduckgo         41875559-225b-49f6-881d-04810a238cc7     NaN   \n",
              "3                None  run--2863e63b-a5bf-43b0-824f-fe3e3ca6b0f7-0   False   \n",
              "4   search_duckduckgo         d4532b74-af29-4a9f-b30e-24cd4f4b2af2     NaN   \n",
              "5                None  run--5fdfbe22-b54d-4daa-b6de-13f808c1f23e-0   False   \n",
              "6   search_duckduckgo         2b604af6-1dbb-47d6-8b25-0653c9c8e837     NaN   \n",
              "7   search_duckduckgo         dbe75886-698b-46ca-b4be-5a800989f9f1     NaN   \n",
              "8                None  run--95f2c24d-b50d-468c-8501-f0e9a2fe117f-0   False   \n",
              "9            multiply         d5e9143e-e21c-4dd5-afdb-c1b1152bec26     NaN   \n",
              "10                add         ae791f80-67ba-4044-b591-f6d14b2a787f     NaN   \n",
              "11               None  run--fdf0ae98-6361-436a-91b3-8fabd0922ee5-0   False   \n",
              "\n",
              "                                           tool_calls invalid_tool_calls  \\\n",
              "0                                                 NaN                NaN   \n",
              "1   [{'name': 'search_duckduckgo', 'args': {'query...                 []   \n",
              "2                                                 NaN                NaN   \n",
              "3   [{'name': 'search_duckduckgo', 'args': {'query...                 []   \n",
              "4                                                 NaN                NaN   \n",
              "5   [{'name': 'search_duckduckgo', 'args': {'query...                 []   \n",
              "6                                                 NaN                NaN   \n",
              "7                                                 NaN                NaN   \n",
              "8   [{'name': 'multiply', 'args': {'a': 29, 'b': 2...                 []   \n",
              "9                                                 NaN                NaN   \n",
              "10                                                NaN                NaN   \n",
              "11                                                 []                 []   \n",
              "\n",
              "                                       usage_metadata  \\\n",
              "0                                                 NaN   \n",
              "1   {'input_tokens': 115, 'output_tokens': 23, 'to...   \n",
              "2                                                 NaN   \n",
              "3   {'input_tokens': 379, 'output_tokens': 24, 'to...   \n",
              "4                                                 NaN   \n",
              "5   {'input_tokens': 602, 'output_tokens': 65, 'to...   \n",
              "6                                                 NaN   \n",
              "7                                                 NaN   \n",
              "8   {'input_tokens': 1206, 'output_tokens': 82, 't...   \n",
              "9                                                 NaN   \n",
              "10                                                NaN   \n",
              "11  {'input_tokens': 1307, 'output_tokens': 31, 't...   \n",
              "\n",
              "                     tool_call_id  artifact   status  \n",
              "0                             NaN       NaN      NaN  \n",
              "1                             NaN       NaN      NaN  \n",
              "2   call_dAmrRjRFbj3vxQehcXUcytqB       NaN  success  \n",
              "3                             NaN       NaN      NaN  \n",
              "4   call_wSSyxcTJb4hhzFPgjVpM1WYy       NaN  success  \n",
              "5                             NaN       NaN      NaN  \n",
              "6   call_6eWQxuf5ycr1y50bu8Ri2XbQ       NaN  success  \n",
              "7   call_1jfGfeAzzvSP85b0ozGAqcFZ       NaN  success  \n",
              "8                             NaN       NaN      NaN  \n",
              "9   call_QYc4GXy47vNaDIDjXVQte2RZ       NaN  success  \n",
              "10  call_09hWrzzLXrilDZIvOmH6astO       NaN  success  \n",
              "11                            NaN       NaN      NaN  "
            ]
          },
          "execution_count": 25,
          "metadata": {},
          "output_type": "execute_result"
        }
      ],
      "source": [
        "import pandas as pd\n",
        "pd.DataFrame([msg.__dict__ for msg in response[\"messages\"]])"
      ]
    },
    {
      "cell_type": "code",
      "execution_count": 27,
      "metadata": {},
      "outputs": [
        {
          "data": {
            "text/plain": [
              "'The result of multiplying the current temperature (29°C) by 2 is 58, and after adding 5, the total is 34.'"
            ]
          },
          "execution_count": 27,
          "metadata": {},
          "output_type": "execute_result"
        }
      ],
      "source": [
        "response['messages'][-1].content"
      ]
    },
    {
      "cell_type": "markdown",
      "metadata": {},
      "source": [
        "## Additional Testing\n",
        "\n",
        "To do: Address the issue of chaining addition to the multiplied result."
      ]
    },
    {
      "cell_type": "code",
      "execution_count": 37,
      "metadata": {},
      "outputs": [
        {
          "name": "stdout",
          "output_type": "stream",
          "text": [
            "[HumanMessage(content='what is the weather in Sri Lanka. Multiply it by 2 and add 5.', additional_kwargs={}, response_metadata={}, id='93778cd2-9067-49b4-bcc7-655b27faadac'), AIMessage(content='', additional_kwargs={'tool_calls': [{'id': 'call_rDLO1vqnCHExEtyFuTL6ntVC', 'function': {'arguments': '{\"query\":\"current weather in Sri Lanka\"}', 'name': 'search_duckduckgo'}, 'type': 'function'}], 'refusal': None}, response_metadata={'token_usage': {'completion_tokens': 21, 'prompt_tokens': 112, 'total_tokens': 133, 'completion_tokens_details': {'accepted_prediction_tokens': 0, 'audio_tokens': 0, 'reasoning_tokens': 0, 'rejected_prediction_tokens': 0}, 'prompt_tokens_details': {'audio_tokens': 0, 'cached_tokens': 0}}, 'model_name': 'gpt-4.1-nano-2025-04-14', 'system_fingerprint': 'fp_c4c155951e', 'id': 'chatcmpl-C9jGYVBxPsWLIoApf7ZZ9ISqNhSFS', 'service_tier': 'default', 'finish_reason': 'tool_calls', 'logprobs': None}, id='run--002fcb44-0d34-4e2f-bc36-606fb5fbce25-0', tool_calls=[{'name': 'search_duckduckgo', 'args': {'query': 'current weather in Sri Lanka'}, 'id': 'call_rDLO1vqnCHExEtyFuTL6ntVC', 'type': 'tool_call'}], usage_metadata={'input_tokens': 112, 'output_tokens': 21, 'total_tokens': 133, 'input_token_details': {'audio': 0, 'cache_read': 0}, 'output_token_details': {'audio': 0, 'reasoning': 0}}), ToolMessage(content='Sri Lanka Current Weather | AccuWeather Get the Sri Lanka weather forecast including weather radar and current conditions in Sri Lanka across major cities. Sri Lanka local weather for today, 14 days, monthly forecast The current temperature in Sri Lanka is °. You can find more detailed information about the weather in Sri Lanka including humidity, wind, chance of rain and more on the Sri Lanka current weather page. Weather in Sri Lanka Current weather in Sri Lanka , with temperatures in 10 cities, including high and low temperatures for the country. Weather today - Sri Lanka Sri Lanka - Detailed weather forecast for today. Comprehensive weather report for today for all locations. Weather forecast for places in Sri Lanka Sri Lanka Wind Map. Weather forecasts for cities in Sri Lanka . Colombo.', name='search_duckduckgo', id='91421516-9a3e-4b51-a351-875787ab399e', tool_call_id='call_rDLO1vqnCHExEtyFuTL6ntVC'), AIMessage(content='', additional_kwargs={'tool_calls': [{'id': 'call_nft2m8Qtpv0f7Z36Dgs248Jb', 'function': {'arguments': '{\"query\": \"current temperature in Sri Lanka\"}', 'name': 'search_duckduckgo'}, 'type': 'function'}, {'id': 'call_hfpyStivglMZL3yt9qXaukLT', 'function': {'arguments': '{\"query\": \"current temperature in Sri Lanka\"}', 'name': 'search_duckduckgo'}, 'type': 'function'}], 'refusal': None}, response_metadata={'token_usage': {'completion_tokens': 58, 'prompt_tokens': 294, 'total_tokens': 352, 'completion_tokens_details': {'accepted_prediction_tokens': 0, 'audio_tokens': 0, 'reasoning_tokens': 0, 'rejected_prediction_tokens': 0}, 'prompt_tokens_details': {'audio_tokens': 0, 'cached_tokens': 0}}, 'model_name': 'gpt-4.1-nano-2025-04-14', 'system_fingerprint': 'fp_c4c155951e', 'id': 'chatcmpl-C9jGaTcSdxAsYcFCjQNwgl6aatY0G', 'service_tier': 'default', 'finish_reason': 'tool_calls', 'logprobs': None}, id='run--6325b067-a42a-4609-b8b0-f4342de6a523-0', tool_calls=[{'name': 'search_duckduckgo', 'args': {'query': 'current temperature in Sri Lanka'}, 'id': 'call_nft2m8Qtpv0f7Z36Dgs248Jb', 'type': 'tool_call'}, {'name': 'search_duckduckgo', 'args': {'query': 'current temperature in Sri Lanka'}, 'id': 'call_hfpyStivglMZL3yt9qXaukLT', 'type': 'tool_call'}], usage_metadata={'input_tokens': 294, 'output_tokens': 58, 'total_tokens': 352, 'input_token_details': {'audio': 0, 'cache_read': 0}, 'output_token_details': {'audio': 0, 'reasoning': 0}}), ToolMessage(content=\"10-Day Weather Forecast for Galle, Galle, Sri Lanka 10 Day Weather-Galle, Galle, Sri Lanka . As of 1:49 am GMT+05:30. Tonight. --/78°. 93%. Night. 78°. 93%. WNW 11 mph. Thunderstorms likely. Low 78F. Sri Lanka | Live Weather Satellite Map Weather forecasts and LIVE satellite images of Sri Lanka . View rain radar and maps of forecast precipitation, wind speed, temperature and more. Weather for Western Province, Sri Lanka Night Sky · TodayHourly14 DaysPastClimate. Now 78 °F . Passing clouds. Feels Like: 79 °F Forecast: 87 / 79 °F Wind: 1 mph ↑ from West. Location: Colombo. Current ... Sri Lanka Weather Today from Satellite Images- ... Realtime Sri Lanka Weather Maps from Satellite Images of Insat3D, Meteosat-8 and Windy.com Sri Lanka Weather Weather forecast for today Sri Lanka The current temperature is almost at the maximum of today's anticipated 30°C. Weather radar - Sri Lanka .\", name='search_duckduckgo', id='599af208-bec7-45a4-87d6-17a8b20aaa06', tool_call_id='call_nft2m8Qtpv0f7Z36Dgs248Jb'), ToolMessage(content=\"AccuWeather Sri Lanka Current Weather | AccuWeather Anuradhapura 91° Badulla 80° Batticaloa 94° Beruwala 87° Chavakachcheri 92° Colombo 87° Dalugama 87° Dambulla 82° Dehiwala 87° Galle 86° Homagama 87° Jaffna 91° Kalmunai 90° Kandy 81° Kurunegala 91° Moratuwa 87° Negombo 86° Ratnapura 81° Sri Jayewardenepura-Kotte 87° Trincomalee ... Yr Long term weather forecast for Sri Lanka Weather forecast for Sri Lanka for the next 10 days. Weather Forecast Weather forecast for places in Sri Lanka Long range weather forecast for places in Sri Lanka Weather Underground Colombo, Sri Lanka Weather Conditions | Weather Underground |Change · See more · (Reset Map) ... Showing Stations · access_time 1:18 AM GMT+05:30 on August 23, 2025 (GMT 0) | Updated just now · --° | 80° · 81 °F · like 91° · Mostly Cloudy · N · 6 · Tomorrow's temperature is forecast to be COOLER than today.... Zoom Earth Sri Lanka | Live Weather Satellite Map | Zoom Earth Weather forecasts and LIVE satellite images of Sri Lanka . View rain radar and maps of forecast precipitation, wind speed, temperature and more.\", name='search_duckduckgo', id='85ecd4f9-73b0-45e1-a52f-037535369609', tool_call_id='call_hfpyStivglMZL3yt9qXaukLT'), AIMessage(content='The current temperature in Sri Lanka varies across different cities, but it is approximately around 86°F to 91°F in many locations. To proceed with your calculation, I will take an average temperature of 88.5°F. Now, I will multiply this temperature by 2 and then add 5.', additional_kwargs={'tool_calls': [{'id': 'call_dMCNCrAc5cfTbu4vINkmRNvP', 'function': {'arguments': '{\"a\": 88.5, \"b\": 2}', 'name': 'multiply'}, 'type': 'function'}, {'id': 'call_gENaeI0TF7XVqZfNzl2j56l6', 'function': {'arguments': '{\"a\": 88.5, \"b\": 5}', 'name': 'add'}, 'type': 'function'}], 'refusal': None}, response_metadata={'token_usage': {'completion_tokens': 117, 'prompt_tokens': 1035, 'total_tokens': 1152, 'completion_tokens_details': {'accepted_prediction_tokens': 0, 'audio_tokens': 0, 'reasoning_tokens': 0, 'rejected_prediction_tokens': 0}, 'prompt_tokens_details': {'audio_tokens': 0, 'cached_tokens': 0}}, 'model_name': 'gpt-4.1-nano-2025-04-14', 'system_fingerprint': 'fp_c4c155951e', 'id': 'chatcmpl-C9jGc8UvcnlgaETMvEX2L0uC5SXMv', 'service_tier': 'default', 'finish_reason': 'tool_calls', 'logprobs': None}, id='run--29f97f3d-2b89-40b2-9d4b-10fd58a80860-0', tool_calls=[{'name': 'multiply', 'args': {'a': 88.5, 'b': 2}, 'id': 'call_dMCNCrAc5cfTbu4vINkmRNvP', 'type': 'tool_call'}, {'name': 'add', 'args': {'a': 88.5, 'b': 5}, 'id': 'call_gENaeI0TF7XVqZfNzl2j56l6', 'type': 'tool_call'}], usage_metadata={'input_tokens': 1035, 'output_tokens': 117, 'total_tokens': 1152, 'input_token_details': {'audio': 0, 'cache_read': 0}, 'output_token_details': {'audio': 0, 'reasoning': 0}}), ToolMessage(content='Error: 1 validation error for multiply\\na\\n  Input should be a valid integer, got a number with a fractional part [type=int_from_float, input_value=88.5, input_type=float]\\n    For further information visit https://errors.pydantic.dev/2.10/v/int_from_float\\n Please fix your mistakes.', name='multiply', id='b53150c2-0535-475c-86aa-ca2fa8eaf4ce', tool_call_id='call_dMCNCrAc5cfTbu4vINkmRNvP', status='error'), ToolMessage(content='Error: 1 validation error for add\\na\\n  Input should be a valid integer, got a number with a fractional part [type=int_from_float, input_value=88.5, input_type=float]\\n    For further information visit https://errors.pydantic.dev/2.10/v/int_from_float\\n Please fix your mistakes.', name='add', id='afddf1b7-fa3b-4fd6-b168-09a1f7339559', tool_call_id='call_gENaeI0TF7XVqZfNzl2j56l6', status='error'), AIMessage(content='The temperature values should be integers for the calculations. I will round the average temperature to the nearest integer and then perform the calculations again.', additional_kwargs={'tool_calls': [{'id': 'call_n5rrdpS6X9GBBg2MCmRkderu', 'function': {'arguments': '{\"a\": 89, \"b\": 2}', 'name': 'multiply'}, 'type': 'function'}, {'id': 'call_8kRCuDwCDS0UkmopraYRJ2p5', 'function': {'arguments': '{\"a\": 89, \"b\": 5}', 'name': 'add'}, 'type': 'function'}], 'refusal': None}, response_metadata={'token_usage': {'completion_tokens': 78, 'prompt_tokens': 1308, 'total_tokens': 1386, 'completion_tokens_details': {'accepted_prediction_tokens': 0, 'audio_tokens': 0, 'reasoning_tokens': 0, 'rejected_prediction_tokens': 0}, 'prompt_tokens_details': {'audio_tokens': 0, 'cached_tokens': 0}}, 'model_name': 'gpt-4.1-nano-2025-04-14', 'system_fingerprint': 'fp_c4c155951e', 'id': 'chatcmpl-C9jGdEzpwXtwgLhgwfCb4icX7nj9a', 'service_tier': 'default', 'finish_reason': 'tool_calls', 'logprobs': None}, id='run--0e9696d6-6f74-4036-a156-3e33646049f1-0', tool_calls=[{'name': 'multiply', 'args': {'a': 89, 'b': 2}, 'id': 'call_n5rrdpS6X9GBBg2MCmRkderu', 'type': 'tool_call'}, {'name': 'add', 'args': {'a': 89, 'b': 5}, 'id': 'call_8kRCuDwCDS0UkmopraYRJ2p5', 'type': 'tool_call'}], usage_metadata={'input_tokens': 1308, 'output_tokens': 78, 'total_tokens': 1386, 'input_token_details': {'audio': 0, 'cache_read': 0}, 'output_token_details': {'audio': 0, 'reasoning': 0}}), ToolMessage(content='178', name='multiply', id='f77b5108-b3d3-4c9e-bc6f-ae94582c2f8b', tool_call_id='call_n5rrdpS6X9GBBg2MCmRkderu'), ToolMessage(content='94', name='add', id='01acafec-68d0-48ba-877f-2d1f7fbfdca1', tool_call_id='call_8kRCuDwCDS0UkmopraYRJ2p5'), AIMessage(content='After rounding the average temperature to 89°F, multiplying it by 2 gives 178, and adding 5 results in 94.', additional_kwargs={'refusal': None}, response_metadata={'token_usage': {'completion_tokens': 29, 'prompt_tokens': 1405, 'total_tokens': 1434, 'completion_tokens_details': {'accepted_prediction_tokens': 0, 'audio_tokens': 0, 'reasoning_tokens': 0, 'rejected_prediction_tokens': 0}, 'prompt_tokens_details': {'audio_tokens': 0, 'cached_tokens': 1280}}, 'model_name': 'gpt-4.1-nano-2025-04-14', 'system_fingerprint': 'fp_c4c155951e', 'id': 'chatcmpl-C9jGfAAmFEluzxVidndWTzYfGKe3S', 'service_tier': 'default', 'finish_reason': 'stop', 'logprobs': None}, id='run--3b489d82-fe78-4092-ab3b-e3ac141ef0ac-0', usage_metadata={'input_tokens': 1405, 'output_tokens': 29, 'total_tokens': 1434, 'input_token_details': {'audio': 0, 'cache_read': 1280}, 'output_token_details': {'audio': 0, 'reasoning': 0}})]\n"
          ]
        }
      ],
      "source": [
        "response = react_graph.invoke({\"messages\": [HumanMessage(content=\"what is the weather in Sri Lanka. Multiply it by 2 and add 5.\")]})\n",
        "print(response[\"messages\"])"
      ]
    },
    {
      "cell_type": "code",
      "execution_count": 38,
      "metadata": {},
      "outputs": [
        {
          "data": {
            "text/html": [
              "<div>\n",
              "<style scoped>\n",
              "    .dataframe tbody tr th:only-of-type {\n",
              "        vertical-align: middle;\n",
              "    }\n",
              "\n",
              "    .dataframe tbody tr th {\n",
              "        vertical-align: top;\n",
              "    }\n",
              "\n",
              "    .dataframe thead th {\n",
              "        text-align: right;\n",
              "    }\n",
              "</style>\n",
              "<table border=\"1\" class=\"dataframe\">\n",
              "  <thead>\n",
              "    <tr style=\"text-align: right;\">\n",
              "      <th></th>\n",
              "      <th>content</th>\n",
              "      <th>additional_kwargs</th>\n",
              "      <th>response_metadata</th>\n",
              "      <th>type</th>\n",
              "      <th>name</th>\n",
              "      <th>id</th>\n",
              "      <th>example</th>\n",
              "      <th>tool_calls</th>\n",
              "      <th>invalid_tool_calls</th>\n",
              "      <th>usage_metadata</th>\n",
              "      <th>tool_call_id</th>\n",
              "      <th>artifact</th>\n",
              "      <th>status</th>\n",
              "    </tr>\n",
              "  </thead>\n",
              "  <tbody>\n",
              "    <tr>\n",
              "      <th>0</th>\n",
              "      <td>what is the weather in Sri Lanka. Multiply it ...</td>\n",
              "      <td>{}</td>\n",
              "      <td>{}</td>\n",
              "      <td>human</td>\n",
              "      <td>None</td>\n",
              "      <td>93778cd2-9067-49b4-bcc7-655b27faadac</td>\n",
              "      <td>False</td>\n",
              "      <td>NaN</td>\n",
              "      <td>NaN</td>\n",
              "      <td>NaN</td>\n",
              "      <td>NaN</td>\n",
              "      <td>NaN</td>\n",
              "      <td>NaN</td>\n",
              "    </tr>\n",
              "    <tr>\n",
              "      <th>1</th>\n",
              "      <td></td>\n",
              "      <td>{'tool_calls': [{'id': 'call_rDLO1vqnCHExEtyFu...</td>\n",
              "      <td>{'token_usage': {'completion_tokens': 21, 'pro...</td>\n",
              "      <td>ai</td>\n",
              "      <td>None</td>\n",
              "      <td>run--002fcb44-0d34-4e2f-bc36-606fb5fbce25-0</td>\n",
              "      <td>False</td>\n",
              "      <td>[{'name': 'search_duckduckgo', 'args': {'query...</td>\n",
              "      <td>[]</td>\n",
              "      <td>{'input_tokens': 112, 'output_tokens': 21, 'to...</td>\n",
              "      <td>NaN</td>\n",
              "      <td>NaN</td>\n",
              "      <td>NaN</td>\n",
              "    </tr>\n",
              "    <tr>\n",
              "      <th>2</th>\n",
              "      <td>Sri Lanka Current Weather | AccuWeather Get th...</td>\n",
              "      <td>{}</td>\n",
              "      <td>{}</td>\n",
              "      <td>tool</td>\n",
              "      <td>search_duckduckgo</td>\n",
              "      <td>91421516-9a3e-4b51-a351-875787ab399e</td>\n",
              "      <td>NaN</td>\n",
              "      <td>NaN</td>\n",
              "      <td>NaN</td>\n",
              "      <td>NaN</td>\n",
              "      <td>call_rDLO1vqnCHExEtyFuTL6ntVC</td>\n",
              "      <td>NaN</td>\n",
              "      <td>success</td>\n",
              "    </tr>\n",
              "    <tr>\n",
              "      <th>3</th>\n",
              "      <td></td>\n",
              "      <td>{'tool_calls': [{'id': 'call_nft2m8Qtpv0f7Z36D...</td>\n",
              "      <td>{'token_usage': {'completion_tokens': 58, 'pro...</td>\n",
              "      <td>ai</td>\n",
              "      <td>None</td>\n",
              "      <td>run--6325b067-a42a-4609-b8b0-f4342de6a523-0</td>\n",
              "      <td>False</td>\n",
              "      <td>[{'name': 'search_duckduckgo', 'args': {'query...</td>\n",
              "      <td>[]</td>\n",
              "      <td>{'input_tokens': 294, 'output_tokens': 58, 'to...</td>\n",
              "      <td>NaN</td>\n",
              "      <td>NaN</td>\n",
              "      <td>NaN</td>\n",
              "    </tr>\n",
              "    <tr>\n",
              "      <th>4</th>\n",
              "      <td>10-Day Weather Forecast for Galle, Galle, Sri ...</td>\n",
              "      <td>{}</td>\n",
              "      <td>{}</td>\n",
              "      <td>tool</td>\n",
              "      <td>search_duckduckgo</td>\n",
              "      <td>599af208-bec7-45a4-87d6-17a8b20aaa06</td>\n",
              "      <td>NaN</td>\n",
              "      <td>NaN</td>\n",
              "      <td>NaN</td>\n",
              "      <td>NaN</td>\n",
              "      <td>call_nft2m8Qtpv0f7Z36Dgs248Jb</td>\n",
              "      <td>NaN</td>\n",
              "      <td>success</td>\n",
              "    </tr>\n",
              "    <tr>\n",
              "      <th>5</th>\n",
              "      <td>AccuWeather Sri Lanka Current Weather | AccuWe...</td>\n",
              "      <td>{}</td>\n",
              "      <td>{}</td>\n",
              "      <td>tool</td>\n",
              "      <td>search_duckduckgo</td>\n",
              "      <td>85ecd4f9-73b0-45e1-a52f-037535369609</td>\n",
              "      <td>NaN</td>\n",
              "      <td>NaN</td>\n",
              "      <td>NaN</td>\n",
              "      <td>NaN</td>\n",
              "      <td>call_hfpyStivglMZL3yt9qXaukLT</td>\n",
              "      <td>NaN</td>\n",
              "      <td>success</td>\n",
              "    </tr>\n",
              "    <tr>\n",
              "      <th>6</th>\n",
              "      <td>The current temperature in Sri Lanka varies ac...</td>\n",
              "      <td>{'tool_calls': [{'id': 'call_dMCNCrAc5cfTbu4vI...</td>\n",
              "      <td>{'token_usage': {'completion_tokens': 117, 'pr...</td>\n",
              "      <td>ai</td>\n",
              "      <td>None</td>\n",
              "      <td>run--29f97f3d-2b89-40b2-9d4b-10fd58a80860-0</td>\n",
              "      <td>False</td>\n",
              "      <td>[{'name': 'multiply', 'args': {'a': 88.5, 'b':...</td>\n",
              "      <td>[]</td>\n",
              "      <td>{'input_tokens': 1035, 'output_tokens': 117, '...</td>\n",
              "      <td>NaN</td>\n",
              "      <td>NaN</td>\n",
              "      <td>NaN</td>\n",
              "    </tr>\n",
              "    <tr>\n",
              "      <th>7</th>\n",
              "      <td>Error: 1 validation error for multiply\\na\\n  I...</td>\n",
              "      <td>{}</td>\n",
              "      <td>{}</td>\n",
              "      <td>tool</td>\n",
              "      <td>multiply</td>\n",
              "      <td>b53150c2-0535-475c-86aa-ca2fa8eaf4ce</td>\n",
              "      <td>NaN</td>\n",
              "      <td>NaN</td>\n",
              "      <td>NaN</td>\n",
              "      <td>NaN</td>\n",
              "      <td>call_dMCNCrAc5cfTbu4vINkmRNvP</td>\n",
              "      <td>NaN</td>\n",
              "      <td>error</td>\n",
              "    </tr>\n",
              "    <tr>\n",
              "      <th>8</th>\n",
              "      <td>Error: 1 validation error for add\\na\\n  Input ...</td>\n",
              "      <td>{}</td>\n",
              "      <td>{}</td>\n",
              "      <td>tool</td>\n",
              "      <td>add</td>\n",
              "      <td>afddf1b7-fa3b-4fd6-b168-09a1f7339559</td>\n",
              "      <td>NaN</td>\n",
              "      <td>NaN</td>\n",
              "      <td>NaN</td>\n",
              "      <td>NaN</td>\n",
              "      <td>call_gENaeI0TF7XVqZfNzl2j56l6</td>\n",
              "      <td>NaN</td>\n",
              "      <td>error</td>\n",
              "    </tr>\n",
              "    <tr>\n",
              "      <th>9</th>\n",
              "      <td>The temperature values should be integers for ...</td>\n",
              "      <td>{'tool_calls': [{'id': 'call_n5rrdpS6X9GBBg2MC...</td>\n",
              "      <td>{'token_usage': {'completion_tokens': 78, 'pro...</td>\n",
              "      <td>ai</td>\n",
              "      <td>None</td>\n",
              "      <td>run--0e9696d6-6f74-4036-a156-3e33646049f1-0</td>\n",
              "      <td>False</td>\n",
              "      <td>[{'name': 'multiply', 'args': {'a': 89, 'b': 2...</td>\n",
              "      <td>[]</td>\n",
              "      <td>{'input_tokens': 1308, 'output_tokens': 78, 't...</td>\n",
              "      <td>NaN</td>\n",
              "      <td>NaN</td>\n",
              "      <td>NaN</td>\n",
              "    </tr>\n",
              "    <tr>\n",
              "      <th>10</th>\n",
              "      <td>178</td>\n",
              "      <td>{}</td>\n",
              "      <td>{}</td>\n",
              "      <td>tool</td>\n",
              "      <td>multiply</td>\n",
              "      <td>f77b5108-b3d3-4c9e-bc6f-ae94582c2f8b</td>\n",
              "      <td>NaN</td>\n",
              "      <td>NaN</td>\n",
              "      <td>NaN</td>\n",
              "      <td>NaN</td>\n",
              "      <td>call_n5rrdpS6X9GBBg2MCmRkderu</td>\n",
              "      <td>NaN</td>\n",
              "      <td>success</td>\n",
              "    </tr>\n",
              "    <tr>\n",
              "      <th>11</th>\n",
              "      <td>94</td>\n",
              "      <td>{}</td>\n",
              "      <td>{}</td>\n",
              "      <td>tool</td>\n",
              "      <td>add</td>\n",
              "      <td>01acafec-68d0-48ba-877f-2d1f7fbfdca1</td>\n",
              "      <td>NaN</td>\n",
              "      <td>NaN</td>\n",
              "      <td>NaN</td>\n",
              "      <td>NaN</td>\n",
              "      <td>call_8kRCuDwCDS0UkmopraYRJ2p5</td>\n",
              "      <td>NaN</td>\n",
              "      <td>success</td>\n",
              "    </tr>\n",
              "    <tr>\n",
              "      <th>12</th>\n",
              "      <td>After rounding the average temperature to 89°F...</td>\n",
              "      <td>{'refusal': None}</td>\n",
              "      <td>{'token_usage': {'completion_tokens': 29, 'pro...</td>\n",
              "      <td>ai</td>\n",
              "      <td>None</td>\n",
              "      <td>run--3b489d82-fe78-4092-ab3b-e3ac141ef0ac-0</td>\n",
              "      <td>False</td>\n",
              "      <td>[]</td>\n",
              "      <td>[]</td>\n",
              "      <td>{'input_tokens': 1405, 'output_tokens': 29, 't...</td>\n",
              "      <td>NaN</td>\n",
              "      <td>NaN</td>\n",
              "      <td>NaN</td>\n",
              "    </tr>\n",
              "  </tbody>\n",
              "</table>\n",
              "</div>"
            ],
            "text/plain": [
              "                                              content  \\\n",
              "0   what is the weather in Sri Lanka. Multiply it ...   \n",
              "1                                                       \n",
              "2   Sri Lanka Current Weather | AccuWeather Get th...   \n",
              "3                                                       \n",
              "4   10-Day Weather Forecast for Galle, Galle, Sri ...   \n",
              "5   AccuWeather Sri Lanka Current Weather | AccuWe...   \n",
              "6   The current temperature in Sri Lanka varies ac...   \n",
              "7   Error: 1 validation error for multiply\\na\\n  I...   \n",
              "8   Error: 1 validation error for add\\na\\n  Input ...   \n",
              "9   The temperature values should be integers for ...   \n",
              "10                                                178   \n",
              "11                                                 94   \n",
              "12  After rounding the average temperature to 89°F...   \n",
              "\n",
              "                                    additional_kwargs  \\\n",
              "0                                                  {}   \n",
              "1   {'tool_calls': [{'id': 'call_rDLO1vqnCHExEtyFu...   \n",
              "2                                                  {}   \n",
              "3   {'tool_calls': [{'id': 'call_nft2m8Qtpv0f7Z36D...   \n",
              "4                                                  {}   \n",
              "5                                                  {}   \n",
              "6   {'tool_calls': [{'id': 'call_dMCNCrAc5cfTbu4vI...   \n",
              "7                                                  {}   \n",
              "8                                                  {}   \n",
              "9   {'tool_calls': [{'id': 'call_n5rrdpS6X9GBBg2MC...   \n",
              "10                                                 {}   \n",
              "11                                                 {}   \n",
              "12                                  {'refusal': None}   \n",
              "\n",
              "                                    response_metadata   type  \\\n",
              "0                                                  {}  human   \n",
              "1   {'token_usage': {'completion_tokens': 21, 'pro...     ai   \n",
              "2                                                  {}   tool   \n",
              "3   {'token_usage': {'completion_tokens': 58, 'pro...     ai   \n",
              "4                                                  {}   tool   \n",
              "5                                                  {}   tool   \n",
              "6   {'token_usage': {'completion_tokens': 117, 'pr...     ai   \n",
              "7                                                  {}   tool   \n",
              "8                                                  {}   tool   \n",
              "9   {'token_usage': {'completion_tokens': 78, 'pro...     ai   \n",
              "10                                                 {}   tool   \n",
              "11                                                 {}   tool   \n",
              "12  {'token_usage': {'completion_tokens': 29, 'pro...     ai   \n",
              "\n",
              "                 name                                           id example  \\\n",
              "0                None         93778cd2-9067-49b4-bcc7-655b27faadac   False   \n",
              "1                None  run--002fcb44-0d34-4e2f-bc36-606fb5fbce25-0   False   \n",
              "2   search_duckduckgo         91421516-9a3e-4b51-a351-875787ab399e     NaN   \n",
              "3                None  run--6325b067-a42a-4609-b8b0-f4342de6a523-0   False   \n",
              "4   search_duckduckgo         599af208-bec7-45a4-87d6-17a8b20aaa06     NaN   \n",
              "5   search_duckduckgo         85ecd4f9-73b0-45e1-a52f-037535369609     NaN   \n",
              "6                None  run--29f97f3d-2b89-40b2-9d4b-10fd58a80860-0   False   \n",
              "7            multiply         b53150c2-0535-475c-86aa-ca2fa8eaf4ce     NaN   \n",
              "8                 add         afddf1b7-fa3b-4fd6-b168-09a1f7339559     NaN   \n",
              "9                None  run--0e9696d6-6f74-4036-a156-3e33646049f1-0   False   \n",
              "10           multiply         f77b5108-b3d3-4c9e-bc6f-ae94582c2f8b     NaN   \n",
              "11                add         01acafec-68d0-48ba-877f-2d1f7fbfdca1     NaN   \n",
              "12               None  run--3b489d82-fe78-4092-ab3b-e3ac141ef0ac-0   False   \n",
              "\n",
              "                                           tool_calls invalid_tool_calls  \\\n",
              "0                                                 NaN                NaN   \n",
              "1   [{'name': 'search_duckduckgo', 'args': {'query...                 []   \n",
              "2                                                 NaN                NaN   \n",
              "3   [{'name': 'search_duckduckgo', 'args': {'query...                 []   \n",
              "4                                                 NaN                NaN   \n",
              "5                                                 NaN                NaN   \n",
              "6   [{'name': 'multiply', 'args': {'a': 88.5, 'b':...                 []   \n",
              "7                                                 NaN                NaN   \n",
              "8                                                 NaN                NaN   \n",
              "9   [{'name': 'multiply', 'args': {'a': 89, 'b': 2...                 []   \n",
              "10                                                NaN                NaN   \n",
              "11                                                NaN                NaN   \n",
              "12                                                 []                 []   \n",
              "\n",
              "                                       usage_metadata  \\\n",
              "0                                                 NaN   \n",
              "1   {'input_tokens': 112, 'output_tokens': 21, 'to...   \n",
              "2                                                 NaN   \n",
              "3   {'input_tokens': 294, 'output_tokens': 58, 'to...   \n",
              "4                                                 NaN   \n",
              "5                                                 NaN   \n",
              "6   {'input_tokens': 1035, 'output_tokens': 117, '...   \n",
              "7                                                 NaN   \n",
              "8                                                 NaN   \n",
              "9   {'input_tokens': 1308, 'output_tokens': 78, 't...   \n",
              "10                                                NaN   \n",
              "11                                                NaN   \n",
              "12  {'input_tokens': 1405, 'output_tokens': 29, 't...   \n",
              "\n",
              "                     tool_call_id  artifact   status  \n",
              "0                             NaN       NaN      NaN  \n",
              "1                             NaN       NaN      NaN  \n",
              "2   call_rDLO1vqnCHExEtyFuTL6ntVC       NaN  success  \n",
              "3                             NaN       NaN      NaN  \n",
              "4   call_nft2m8Qtpv0f7Z36Dgs248Jb       NaN  success  \n",
              "5   call_hfpyStivglMZL3yt9qXaukLT       NaN  success  \n",
              "6                             NaN       NaN      NaN  \n",
              "7   call_dMCNCrAc5cfTbu4vINkmRNvP       NaN    error  \n",
              "8   call_gENaeI0TF7XVqZfNzl2j56l6       NaN    error  \n",
              "9                             NaN       NaN      NaN  \n",
              "10  call_n5rrdpS6X9GBBg2MCmRkderu       NaN  success  \n",
              "11  call_8kRCuDwCDS0UkmopraYRJ2p5       NaN  success  \n",
              "12                            NaN       NaN      NaN  "
            ]
          },
          "execution_count": 38,
          "metadata": {},
          "output_type": "execute_result"
        }
      ],
      "source": [
        "pd.DataFrame([msg.__dict__ for msg in response[\"messages\"]])"
      ]
    },
    {
      "cell_type": "code",
      "execution_count": 39,
      "metadata": {},
      "outputs": [
        {
          "data": {
            "text/plain": [
              "'After rounding the average temperature to 89°F, multiplying it by 2 gives 178, and adding 5 results in 94.'"
            ]
          },
          "execution_count": 39,
          "metadata": {},
          "output_type": "execute_result"
        }
      ],
      "source": [
        "response['messages'][-1].content"
      ]
    },
    {
      "cell_type": "code",
      "execution_count": null,
      "metadata": {},
      "outputs": [],
      "source": []
    }
  ],
  "metadata": {
    "accelerator": "GPU",
    "colab": {
      "gpuType": "T4",
      "provenance": []
    },
    "kernelspec": {
      "display_name": "Python 3",
      "name": "python3"
    },
    "language_info": {
      "codemirror_mode": {
        "name": "ipython",
        "version": 3
      },
      "file_extension": ".py",
      "mimetype": "text/x-python",
      "name": "python",
      "nbconvert_exporter": "python",
      "pygments_lexer": "ipython3",
      "version": "3.13.2"
    }
  },
  "nbformat": 4,
  "nbformat_minor": 0
}
