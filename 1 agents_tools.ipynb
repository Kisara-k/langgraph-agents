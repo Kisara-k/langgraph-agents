{
 "cells": [
  {
   "cell_type": "markdown",
   "metadata": {},
   "source": [
    "## LangGraph Agents Tutorial\n",
    "\n",
    "This notebook demonstrates how to build AI agents using LangGraph, OpenAI GPT models, and external tools. Agents are AI systems that can reason about problems, decide when to use tools, and execute multi-step workflows autonomously.\n",
    "\n",
    "### What You'll Learn:\n",
    "- How to create and configure tools for agents\n",
    "- Tool binding - connecting LLMs with external capabilities  \n",
    "- Building ReAct agents using LangGraph's prebuilt patterns\n",
    "- Agent execution and message handling"
   ]
  },
  {
   "cell_type": "markdown",
   "metadata": {},
   "source": [
    "## Environment Setup\n",
    "\n",
    "Install required packages for building LangGraph agents. Each package serves a specific purpose:\n",
    "- **langchain**: Core framework for building LLM applications\n",
    "- **langgraph**: Graph-based orchestration for complex agent workflows  \n",
    "- **openai & langchain_openai**: Integration with OpenAI's GPT models\n",
    "- **wikipedia**: External tool for information retrieval"
   ]
  },
  {
   "cell_type": "code",
   "execution_count": null,
   "metadata": {
    "colab": {
     "base_uri": "https://localhost:8080/"
    },
    "id": "9r6mZKZf2Gmo",
    "outputId": "4042da4c-bf9c-4911-a716-33bc9f3bc90d"
   },
   "outputs": [],
   "source": [
    "# !pip install -q langchain langchain-community langgraph openai langchain_openai wikipedia"
   ]
  },
  {
   "cell_type": "markdown",
   "metadata": {},
   "source": [
    "## Tool Creation: Wikipedia Search\n",
    "\n",
    "**Tools** are external capabilities that agents can use to gather information or perform actions. Here we create a Wikipedia search tool:\n",
    "\n",
    "- **WikipediaAPIWrapper**: Handles API communication with Wikipedia\n",
    "- **top_k_results=1**: Limits results to prevent information overload\n",
    "- **doc_content_chars_max=300**: Restricts content length for efficient processing\n",
    "- **WikipediaQueryRun**: LangChain tool wrapper that makes the API accessible to agents"
   ]
  },
  {
   "cell_type": "code",
   "execution_count": 1,
   "metadata": {
    "id": "dBJF7BEr4BXn"
   },
   "outputs": [],
   "source": [
    "from langchain_community.tools import WikipediaQueryRun\n",
    "from langchain_community.utilities import WikipediaAPIWrapper\n",
    "\n",
    "api_wrapper = WikipediaAPIWrapper(top_k_results=1, doc_content_chars_max=300)\n",
    "wiki_tool = WikipediaQueryRun(api_wrapper=api_wrapper)"
   ]
  },
  {
   "cell_type": "markdown",
   "metadata": {},
   "source": [
    "## Testing the Tool Directly\n",
    "\n",
    "Before integrating tools with agents, it's good practice to test them independently to ensure they work correctly and return expected results."
   ]
  },
  {
   "cell_type": "code",
   "execution_count": 2,
   "metadata": {
    "colab": {
     "base_uri": "https://localhost:8080/",
     "height": 70
    },
    "id": "DMiuQhuq4fdA",
    "outputId": "74295346-2c98-4352-aafb-ede74d0318ad"
   },
   "outputs": [
    {
     "data": {
      "text/plain": [
       "'Page: Agentic AI\\nSummary: Agentic AI is a class of artificial intelligence that focuses on autonomous systems that can make decisions and perform tasks without human intervention. The independent systems automatically respond to conditions, to produce process results. The field is closely linked to '"
      ]
     },
     "execution_count": 2,
     "metadata": {},
     "output_type": "execute_result"
    }
   ],
   "source": [
    "wiki_tool.run({\"query\": \"AI agents\"})"
   ]
  },
  {
   "cell_type": "markdown",
   "metadata": {},
   "source": [
    "## LLM Configuration\n",
    "\n",
    "Set up the Language Model that will power our agent's reasoning capabilities:\n",
    "\n",
    "- **ChatOpenAI**: LangChain's interface to OpenAI's models\n",
    "- **temperature=0**: Ensures deterministic, consistent responses\n",
    "- **gpt-4o-mini**: Cost-effective model suitable for most agent tasks\n",
    "- **API key**: Required for authentication (use environment variables in production)"
   ]
  },
  {
   "cell_type": "code",
   "execution_count": null,
   "metadata": {
    "id": "Tq9TI3Ho4ln6"
   },
   "outputs": [],
   "source": [
    "from langchain_openai import ChatOpenAI\n",
    "from dotenv import load_dotenv\n",
    "load_dotenv()\n",
    "\n",
    "llm = ChatOpenAI(temperature=0.3, model=\"gpt-4.1-nano\")"
   ]
  },
  {
   "cell_type": "markdown",
   "metadata": {},
   "source": [
    "## Tool Binding: Connecting LLM with Tools\n",
    "\n",
    "**Tool binding** makes the LLM aware of available tools and enables it to generate tool calls when needed:\n",
    "\n",
    "1. **bind_tools()**: Registers tools with the LLM, providing their descriptions and schemas\n",
    "2. **Tool calling**: The LLM can now decide when and how to use tools based on user queries\n",
    "3. The LLM will respond with either direct text or tool call instructions"
   ]
  },
  {
   "cell_type": "code",
   "execution_count": 4,
   "metadata": {
    "colab": {
     "base_uri": "https://localhost:8080/",
     "height": 35
    },
    "id": "U2wQ7j-K47ZK",
    "outputId": "9af5429b-a11e-4ad8-942d-6febcb174c02"
   },
   "outputs": [
    {
     "data": {
      "text/plain": [
       "'Hello! How can I assist you today?'"
      ]
     },
     "execution_count": 4,
     "metadata": {},
     "output_type": "execute_result"
    }
   ],
   "source": [
    "tools = [wiki_tool]\n",
    "\n",
    "# Tool binding\n",
    "llm_with_tools = llm.bind_tools(tools)\n",
    "\n",
    "#Tool calling\n",
    "result = llm_with_tools.invoke(\"Hello world!\")\n",
    "result.content"
   ]
  },
  {
   "cell_type": "markdown",
   "metadata": {},
   "source": [
    "## ReAct Agent Creation\n",
    "\n",
    "**ReAct (Reasoning + Acting)** is a proven agent pattern that combines:\n",
    "\n",
    "- **Reasoning**: LLM thinks through the problem step-by-step\n",
    "- **Acting**: LLM decides which tools to use and when\n",
    "- **Observation**: LLM processes tool results and continues reasoning\n",
    "\n",
    "`create_react_agent()` provides a prebuilt implementation that handles the ReAct loop automatically."
   ]
  },
  {
   "cell_type": "code",
   "execution_count": 5,
   "metadata": {
    "id": "vhUDRGM_5ZtF"
   },
   "outputs": [],
   "source": [
    "from langgraph.prebuilt import create_react_agent\n",
    "\n",
    "agent_executor = create_react_agent(llm, tools)"
   ]
  },
  {
   "cell_type": "markdown",
   "metadata": {},
   "source": [
    "## Testing Agent Response (No Tools)\n",
    "\n",
    "Test how the agent handles simple queries that don't require external tools. The agent should respond directly without calling Wikipedia since it can answer \"hi!\" from its training data."
   ]
  },
  {
   "cell_type": "code",
   "execution_count": 6,
   "metadata": {
    "colab": {
     "base_uri": "https://localhost:8080/"
    },
    "id": "2PtbkBft5uqm",
    "outputId": "fddcd849-c21c-4fcc-a243-c4e44ec2da8f"
   },
   "outputs": [
    {
     "data": {
      "text/plain": [
       "[HumanMessage(content='hi!', additional_kwargs={}, response_metadata={}, id='0b0a0574-313e-45be-b70f-5fef39ecef6f'),\n",
       " AIMessage(content='Hello! How can I assist you today?', additional_kwargs={'refusal': None}, response_metadata={'token_usage': {'completion_tokens': 10, 'prompt_tokens': 83, 'total_tokens': 93, 'completion_tokens_details': {'accepted_prediction_tokens': 0, 'audio_tokens': 0, 'reasoning_tokens': 0, 'rejected_prediction_tokens': 0}, 'prompt_tokens_details': {'audio_tokens': 0, 'cached_tokens': 0}}, 'model_name': 'gpt-4.1-nano-2025-04-14', 'system_fingerprint': 'fp_c4c155951e', 'id': 'chatcmpl-C9j8lM06sLtBzTF4RPGsoALTpa1H5', 'service_tier': 'default', 'finish_reason': 'stop', 'logprobs': None}, id='run--20e6e7aa-bbc9-4b56-b325-8083d1442edc-0', usage_metadata={'input_tokens': 83, 'output_tokens': 10, 'total_tokens': 93, 'input_token_details': {'audio': 0, 'cache_read': 0}, 'output_token_details': {'audio': 0, 'reasoning': 0}})]"
      ]
     },
     "execution_count": 6,
     "metadata": {},
     "output_type": "execute_result"
    }
   ],
   "source": [
    "from langchain_core.messages import HumanMessage\n",
    "\n",
    "#First up, let's see how it responds when there's no need to call a tool:\n",
    "response = agent_executor.invoke({\"messages\": [HumanMessage(content=\"hi!\")]})\n",
    "\n",
    "response[\"messages\"]"
   ]
  },
  {
   "cell_type": "code",
   "execution_count": 7,
   "metadata": {},
   "outputs": [
    {
     "data": {
      "text/html": [
       "<div>\n",
       "<style scoped>\n",
       "    .dataframe tbody tr th:only-of-type {\n",
       "        vertical-align: middle;\n",
       "    }\n",
       "\n",
       "    .dataframe tbody tr th {\n",
       "        vertical-align: top;\n",
       "    }\n",
       "\n",
       "    .dataframe thead th {\n",
       "        text-align: right;\n",
       "    }\n",
       "</style>\n",
       "<table border=\"1\" class=\"dataframe\">\n",
       "  <thead>\n",
       "    <tr style=\"text-align: right;\">\n",
       "      <th></th>\n",
       "      <th>content</th>\n",
       "      <th>additional_kwargs</th>\n",
       "      <th>response_metadata</th>\n",
       "      <th>type</th>\n",
       "      <th>name</th>\n",
       "      <th>id</th>\n",
       "      <th>example</th>\n",
       "      <th>tool_calls</th>\n",
       "      <th>invalid_tool_calls</th>\n",
       "      <th>usage_metadata</th>\n",
       "    </tr>\n",
       "  </thead>\n",
       "  <tbody>\n",
       "    <tr>\n",
       "      <th>0</th>\n",
       "      <td>hi!</td>\n",
       "      <td>{}</td>\n",
       "      <td>{}</td>\n",
       "      <td>human</td>\n",
       "      <td>None</td>\n",
       "      <td>0b0a0574-313e-45be-b70f-5fef39ecef6f</td>\n",
       "      <td>False</td>\n",
       "      <td>NaN</td>\n",
       "      <td>NaN</td>\n",
       "      <td>NaN</td>\n",
       "    </tr>\n",
       "    <tr>\n",
       "      <th>1</th>\n",
       "      <td>Hello! How can I assist you today?</td>\n",
       "      <td>{'refusal': None}</td>\n",
       "      <td>{'token_usage': {'completion_tokens': 10, 'pro...</td>\n",
       "      <td>ai</td>\n",
       "      <td>None</td>\n",
       "      <td>run--20e6e7aa-bbc9-4b56-b325-8083d1442edc-0</td>\n",
       "      <td>False</td>\n",
       "      <td>[]</td>\n",
       "      <td>[]</td>\n",
       "      <td>{'input_tokens': 83, 'output_tokens': 10, 'tot...</td>\n",
       "    </tr>\n",
       "  </tbody>\n",
       "</table>\n",
       "</div>"
      ],
      "text/plain": [
       "                              content  additional_kwargs  \\\n",
       "0                                 hi!                 {}   \n",
       "1  Hello! How can I assist you today?  {'refusal': None}   \n",
       "\n",
       "                                   response_metadata   type  name  \\\n",
       "0                                                 {}  human  None   \n",
       "1  {'token_usage': {'completion_tokens': 10, 'pro...     ai  None   \n",
       "\n",
       "                                            id  example tool_calls  \\\n",
       "0         0b0a0574-313e-45be-b70f-5fef39ecef6f    False        NaN   \n",
       "1  run--20e6e7aa-bbc9-4b56-b325-8083d1442edc-0    False         []   \n",
       "\n",
       "  invalid_tool_calls                                     usage_metadata  \n",
       "0                NaN                                                NaN  \n",
       "1                 []  {'input_tokens': 83, 'output_tokens': 10, 'tot...  "
      ]
     },
     "execution_count": 7,
     "metadata": {},
     "output_type": "execute_result"
    }
   ],
   "source": [
    "import pandas as pd\n",
    "pd.DataFrame([msg.__dict__ for msg in response[\"messages\"]])"
   ]
  },
  {
   "cell_type": "code",
   "execution_count": 8,
   "metadata": {
    "colab": {
     "base_uri": "https://localhost:8080/"
    },
    "id": "nTMdWurE57G2",
    "outputId": "57c5c8fd-d9db-4b02-ae83-35d756abb3ac"
   },
   "outputs": [
    {
     "name": "stdout",
     "output_type": "stream",
     "text": [
      "Hello! How can I assist you today?\n"
     ]
    }
   ],
   "source": [
    "print(response[\"messages\"][-1].content)"
   ]
  },
  {
   "cell_type": "markdown",
   "metadata": {},
   "source": [
    "## Testing Agent with Tool Usage\n",
    "\n",
    "Now test with a query that requires external information. The agent should:\n",
    "1. Recognize it needs current/specific information about \"agentic AI\"\n",
    "2. Call the Wikipedia tool to gather relevant information  \n",
    "3. Use the retrieved information to formulate a comprehensive response"
   ]
  },
  {
   "cell_type": "code",
   "execution_count": null,
   "metadata": {
    "colab": {
     "base_uri": "https://localhost:8080/"
    },
    "id": "kjtFP-pv6F44",
    "outputId": "3dcd2ea0-9f51-44ed-fa8d-08d9101dba6c"
   },
   "outputs": [
    {
     "data": {
      "text/plain": [
       "[HumanMessage(content='what is agentic ai', additional_kwargs={}, response_metadata={}, id='e6980ca3-f184-490d-8f29-f2e9ed04b5f7'),\n",
       " AIMessage(content='', additional_kwargs={'tool_calls': [{'id': 'call_MhztVgSsKN4gXCOYZHii2qcv', 'function': {'arguments': '{\"query\":\"agentic AI\"}', 'name': 'wikipedia'}, 'type': 'function'}], 'refusal': None}, response_metadata={'token_usage': {'completion_tokens': 15, 'prompt_tokens': 86, 'total_tokens': 101, 'completion_tokens_details': {'accepted_prediction_tokens': 0, 'audio_tokens': 0, 'reasoning_tokens': 0, 'rejected_prediction_tokens': 0}, 'prompt_tokens_details': {'audio_tokens': 0, 'cached_tokens': 0}}, 'model_name': 'gpt-4.1-nano-2025-04-14', 'system_fingerprint': 'fp_c4c155951e', 'id': 'chatcmpl-C9j8tajMRktrVvKeQ7ZYKuMMtS88d', 'service_tier': 'default', 'finish_reason': 'tool_calls', 'logprobs': None}, id='run--7d85fe3c-00cd-4016-8f65-902f4ce36511-0', tool_calls=[{'name': 'wikipedia', 'args': {'query': 'agentic AI'}, 'id': 'call_MhztVgSsKN4gXCOYZHii2qcv', 'type': 'tool_call'}], usage_metadata={'input_tokens': 86, 'output_tokens': 15, 'total_tokens': 101, 'input_token_details': {'audio': 0, 'cache_read': 0}, 'output_token_details': {'audio': 0, 'reasoning': 0}}),\n",
       " ToolMessage(content='Page: Agentic AI\\nSummary: Agentic AI is a class of artificial intelligence that focuses on autonomous systems that can make decisions and perform tasks without human intervention. The independent systems automatically respond to conditions, to produce process results. The field is closely linked to ', name='wikipedia', id='298b8671-9df9-477d-8f27-b8b34bc350d7', tool_call_id='call_MhztVgSsKN4gXCOYZHii2qcv'),\n",
       " AIMessage(content='Agentic AI is a class of artificial intelligence that focuses on autonomous systems capable of making decisions and performing tasks without human intervention. These systems can independently respond to conditions to produce desired outcomes.', additional_kwargs={'refusal': None}, response_metadata={'token_usage': {'completion_tokens': 38, 'prompt_tokens': 162, 'total_tokens': 200, 'completion_tokens_details': {'accepted_prediction_tokens': 0, 'audio_tokens': 0, 'reasoning_tokens': 0, 'rejected_prediction_tokens': 0}, 'prompt_tokens_details': {'audio_tokens': 0, 'cached_tokens': 0}}, 'model_name': 'gpt-4.1-nano-2025-04-14', 'system_fingerprint': 'fp_c4c155951e', 'id': 'chatcmpl-C9j8ws38ZUILk3EN2VnsF7w3EImQt', 'service_tier': 'default', 'finish_reason': 'stop', 'logprobs': None}, id='run--eee64f7c-51a2-4773-a6da-d22420196fe3-0', usage_metadata={'input_tokens': 162, 'output_tokens': 38, 'total_tokens': 200, 'input_token_details': {'audio': 0, 'cache_read': 0}, 'output_token_details': {'audio': 0, 'reasoning': 0}})]"
      ]
     },
     "execution_count": 9,
     "metadata": {},
     "output_type": "execute_result"
    }
   ],
   "source": [
    "from langchain_core.messages import HumanMessage\n",
    "\n",
    "#First up, let's see how it responds when there's no need to call a tool:\n",
    "response = agent_executor.invoke({\"messages\": [HumanMessage(content=\"what is agentic ai\")]})\n",
    "response[\"messages\"]"
   ]
  },
  {
   "cell_type": "code",
   "execution_count": 10,
   "metadata": {},
   "outputs": [
    {
     "data": {
      "text/html": [
       "<div>\n",
       "<style scoped>\n",
       "    .dataframe tbody tr th:only-of-type {\n",
       "        vertical-align: middle;\n",
       "    }\n",
       "\n",
       "    .dataframe tbody tr th {\n",
       "        vertical-align: top;\n",
       "    }\n",
       "\n",
       "    .dataframe thead th {\n",
       "        text-align: right;\n",
       "    }\n",
       "</style>\n",
       "<table border=\"1\" class=\"dataframe\">\n",
       "  <thead>\n",
       "    <tr style=\"text-align: right;\">\n",
       "      <th></th>\n",
       "      <th>content</th>\n",
       "      <th>additional_kwargs</th>\n",
       "      <th>response_metadata</th>\n",
       "      <th>type</th>\n",
       "      <th>name</th>\n",
       "      <th>id</th>\n",
       "      <th>example</th>\n",
       "      <th>tool_calls</th>\n",
       "      <th>invalid_tool_calls</th>\n",
       "      <th>usage_metadata</th>\n",
       "      <th>tool_call_id</th>\n",
       "      <th>artifact</th>\n",
       "      <th>status</th>\n",
       "    </tr>\n",
       "  </thead>\n",
       "  <tbody>\n",
       "    <tr>\n",
       "      <th>0</th>\n",
       "      <td>what is agentic ai</td>\n",
       "      <td>{}</td>\n",
       "      <td>{}</td>\n",
       "      <td>human</td>\n",
       "      <td>None</td>\n",
       "      <td>e6980ca3-f184-490d-8f29-f2e9ed04b5f7</td>\n",
       "      <td>False</td>\n",
       "      <td>NaN</td>\n",
       "      <td>NaN</td>\n",
       "      <td>NaN</td>\n",
       "      <td>NaN</td>\n",
       "      <td>NaN</td>\n",
       "      <td>NaN</td>\n",
       "    </tr>\n",
       "    <tr>\n",
       "      <th>1</th>\n",
       "      <td></td>\n",
       "      <td>{'tool_calls': [{'id': 'call_MhztVgSsKN4gXCOYZ...</td>\n",
       "      <td>{'token_usage': {'completion_tokens': 15, 'pro...</td>\n",
       "      <td>ai</td>\n",
       "      <td>None</td>\n",
       "      <td>run--7d85fe3c-00cd-4016-8f65-902f4ce36511-0</td>\n",
       "      <td>False</td>\n",
       "      <td>[{'name': 'wikipedia', 'args': {'query': 'agen...</td>\n",
       "      <td>[]</td>\n",
       "      <td>{'input_tokens': 86, 'output_tokens': 15, 'tot...</td>\n",
       "      <td>NaN</td>\n",
       "      <td>NaN</td>\n",
       "      <td>NaN</td>\n",
       "    </tr>\n",
       "    <tr>\n",
       "      <th>2</th>\n",
       "      <td>Page: Agentic AI\\nSummary: Agentic AI is a cla...</td>\n",
       "      <td>{}</td>\n",
       "      <td>{}</td>\n",
       "      <td>tool</td>\n",
       "      <td>wikipedia</td>\n",
       "      <td>298b8671-9df9-477d-8f27-b8b34bc350d7</td>\n",
       "      <td>NaN</td>\n",
       "      <td>NaN</td>\n",
       "      <td>NaN</td>\n",
       "      <td>NaN</td>\n",
       "      <td>call_MhztVgSsKN4gXCOYZHii2qcv</td>\n",
       "      <td>NaN</td>\n",
       "      <td>success</td>\n",
       "    </tr>\n",
       "    <tr>\n",
       "      <th>3</th>\n",
       "      <td>Agentic AI is a class of artificial intelligen...</td>\n",
       "      <td>{'refusal': None}</td>\n",
       "      <td>{'token_usage': {'completion_tokens': 38, 'pro...</td>\n",
       "      <td>ai</td>\n",
       "      <td>None</td>\n",
       "      <td>run--eee64f7c-51a2-4773-a6da-d22420196fe3-0</td>\n",
       "      <td>False</td>\n",
       "      <td>[]</td>\n",
       "      <td>[]</td>\n",
       "      <td>{'input_tokens': 162, 'output_tokens': 38, 'to...</td>\n",
       "      <td>NaN</td>\n",
       "      <td>NaN</td>\n",
       "      <td>NaN</td>\n",
       "    </tr>\n",
       "  </tbody>\n",
       "</table>\n",
       "</div>"
      ],
      "text/plain": [
       "                                             content  \\\n",
       "0                                 what is agentic ai   \n",
       "1                                                      \n",
       "2  Page: Agentic AI\\nSummary: Agentic AI is a cla...   \n",
       "3  Agentic AI is a class of artificial intelligen...   \n",
       "\n",
       "                                   additional_kwargs  \\\n",
       "0                                                 {}   \n",
       "1  {'tool_calls': [{'id': 'call_MhztVgSsKN4gXCOYZ...   \n",
       "2                                                 {}   \n",
       "3                                  {'refusal': None}   \n",
       "\n",
       "                                   response_metadata   type       name  \\\n",
       "0                                                 {}  human       None   \n",
       "1  {'token_usage': {'completion_tokens': 15, 'pro...     ai       None   \n",
       "2                                                 {}   tool  wikipedia   \n",
       "3  {'token_usage': {'completion_tokens': 38, 'pro...     ai       None   \n",
       "\n",
       "                                            id example  \\\n",
       "0         e6980ca3-f184-490d-8f29-f2e9ed04b5f7   False   \n",
       "1  run--7d85fe3c-00cd-4016-8f65-902f4ce36511-0   False   \n",
       "2         298b8671-9df9-477d-8f27-b8b34bc350d7     NaN   \n",
       "3  run--eee64f7c-51a2-4773-a6da-d22420196fe3-0   False   \n",
       "\n",
       "                                          tool_calls invalid_tool_calls  \\\n",
       "0                                                NaN                NaN   \n",
       "1  [{'name': 'wikipedia', 'args': {'query': 'agen...                 []   \n",
       "2                                                NaN                NaN   \n",
       "3                                                 []                 []   \n",
       "\n",
       "                                      usage_metadata  \\\n",
       "0                                                NaN   \n",
       "1  {'input_tokens': 86, 'output_tokens': 15, 'tot...   \n",
       "2                                                NaN   \n",
       "3  {'input_tokens': 162, 'output_tokens': 38, 'to...   \n",
       "\n",
       "                    tool_call_id  artifact   status  \n",
       "0                            NaN       NaN      NaN  \n",
       "1                            NaN       NaN      NaN  \n",
       "2  call_MhztVgSsKN4gXCOYZHii2qcv       NaN  success  \n",
       "3                            NaN       NaN      NaN  "
      ]
     },
     "execution_count": 10,
     "metadata": {},
     "output_type": "execute_result"
    }
   ],
   "source": [
    "pd.DataFrame([msg.__dict__ for msg in response[\"messages\"]])"
   ]
  },
  {
   "cell_type": "code",
   "execution_count": 11,
   "metadata": {
    "colab": {
     "base_uri": "https://localhost:8080/"
    },
    "id": "K6XqJpTl6UsO",
    "outputId": "4f252e6e-ec18-42af-a0db-9699ae81a42e"
   },
   "outputs": [
    {
     "name": "stdout",
     "output_type": "stream",
     "text": [
      "Agentic AI is a class of artificial intelligence that focuses on autonomous systems capable of making decisions and performing tasks without human intervention. These systems can independently respond to conditions to produce desired outcomes.\n"
     ]
    }
   ],
   "source": [
    "print(response[\"messages\"][-1].content)"
   ]
  },
  {
   "cell_type": "code",
   "execution_count": null,
   "metadata": {
    "id": "XIAVu3UF6wND"
   },
   "outputs": [],
   "source": []
  }
 ],
 "metadata": {
  "colab": {
   "gpuType": "T4",
   "provenance": []
  },
  "kernelspec": {
   "display_name": "Python 3",
   "name": "python3"
  },
  "language_info": {
   "codemirror_mode": {
    "name": "ipython",
    "version": 3
   },
   "file_extension": ".py",
   "mimetype": "text/x-python",
   "name": "python",
   "nbconvert_exporter": "python",
   "pygments_lexer": "ipython3",
   "version": "3.13.2"
  }
 },
 "nbformat": 4,
 "nbformat_minor": 0
}
