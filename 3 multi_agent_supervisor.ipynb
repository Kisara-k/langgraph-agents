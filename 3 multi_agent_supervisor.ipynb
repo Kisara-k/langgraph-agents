{
 "cells": [
  {
   "cell_type": "markdown",
   "metadata": {},
   "source": [
    "## Multi-Agent Systems with LangGraph Tutorial\n",
    "\n",
    "This notebook demonstrates **multi-agent orchestration** using supervisor patterns. Multi-agent systems decompose complex problems by distributing specialized tasks across different agents.\n",
    "\n",
    "### Architecture Concepts:\n",
    "- **Supervisor Agent**: Orchestrates task distribution and coordination\n",
    "- **Specialized Agents**: Focus on specific domains (research, math, etc.)\n",
    "- **Agent Delegation**: Intelligent routing of tasks to appropriate experts\n",
    "- **Collaborative Workflows**: Agents working together on complex problems\n",
    "\n",
    "### Benefits of Multi-Agent Systems:\n",
    "- **Specialization**: Each agent excels in its domain\n",
    "- **Scalability**: Add new agents for new capabilities\n",
    "- **Maintainability**: Isolated agent logic is easier to debug and improve\n",
    "- **Parallel Processing**: Multiple agents can work simultaneously"
   ]
  },
  {
   "cell_type": "markdown",
   "metadata": {},
   "source": [
    "## Environment Setup for Multi-Agent Systems\n",
    "\n",
    "Install specialized packages for multi-agent orchestration:\n",
    "- **langgraph-supervisor**: Framework for creating supervisor-agent hierarchies\n",
    "- **create_supervisor & create_react_agent**: Pre-built patterns for agent management"
   ]
  },
  {
   "cell_type": "code",
   "execution_count": null,
   "metadata": {
    "colab": {
     "base_uri": "https://localhost:8080/"
    },
    "id": "uSd1beaS6prz",
    "outputId": "970c9863-e41e-41c9-c87c-8ef49027d5f1"
   },
   "outputs": [],
   "source": [
    "# !pip install langgraph-supervisor langchain-openai"
   ]
  },
  {
   "cell_type": "code",
   "execution_count": null,
   "metadata": {
    "colab": {
     "base_uri": "https://localhost:8080/"
    },
    "id": "xYYADL3G8WLQ",
    "outputId": "b53dac69-2b38-4987-801a-ac3c860c0d03"
   },
   "outputs": [],
   "source": [
    "# !pip install langchain langchain_community langgraph"
   ]
  },
  {
   "cell_type": "markdown",
   "metadata": {},
   "source": [
    "## Central LLM Configuration\n",
    "\n",
    "Set up the shared language model that will power all agents in the system. Using a single LLM instance ensures consistency in reasoning across different agents while maintaining cost efficiency."
   ]
  },
  {
   "cell_type": "code",
   "execution_count": null,
   "metadata": {
    "id": "UK3now8z7Gjb"
   },
   "outputs": [],
   "source": [
    "from langchain_openai import ChatOpenAI\n",
    "from dotenv import load_dotenv\n",
    "load_dotenv()\n",
    "\n",
    "# Initialize OpenAI model\n",
    "model = ChatOpenAI(temperature=0.3, model=\"gpt-4.1-nano\")\n"
   ]
  },
  {
   "cell_type": "markdown",
   "metadata": {},
   "source": [
    "## Specialized Tool Creation\n",
    "\n",
    "Create domain-specific tools that will be assigned to different agents:\n",
    "\n",
    "- **Search tools**: For research agents requiring web access\n",
    "- **Mathematical tools**: For computation-focused agents\n",
    "- **Tool separation**: Each agent gets tools relevant to its specialization\n",
    "- **Clear boundaries**: Prevents agents from overstepping their intended domains\n",
    "\n",
    "This separation of concerns makes agents more reliable and predictable."
   ]
  },
  {
   "cell_type": "code",
   "execution_count": null,
   "metadata": {
    "colab": {
     "base_uri": "https://localhost:8080/"
    },
    "id": "xXDIM9fC72Ca",
    "outputId": "593e1207-520f-4b52-d2ce-2de34de267de"
   },
   "outputs": [],
   "source": [
    "# !pip install -q duckduckgo-search <--- deprecated\n",
    "# !pip install -q ddgs"
   ]
  },
  {
   "cell_type": "code",
   "execution_count": 5,
   "metadata": {
    "id": "optBAxTG7996"
   },
   "outputs": [],
   "source": [
    "# from langchain_community.tools import DuckDuckGoSearchRun\n",
    "\n",
    "# def search_duckduckgo(query: str):\n",
    "#     \"\"\"Searches DuckDuckGo using LangChain's DuckDuckGoSearchRun tool.\"\"\"\n",
    "#     search = DuckDuckGoSearchRun()\n",
    "#     return search.invoke(query)\n",
    "\n",
    "from ddgs import DDGS\n",
    "\n",
    "def search_duckduckgo(query: str):\n",
    "    \"\"\"Searches DuckDuckGo using the ddgs library.\"\"\"\n",
    "    results = DDGS().text(query, max_results=5)\n",
    "    return ' '.join([f\"{result['title']} {result['body']}\" for result in results])\n",
    "\n",
    "# Example usage\n",
    "# result = search_duckduckgo(\"what are AI agent\")\n",
    "# print(result)\n",
    "\n",
    "def add(a: float, b: float) -> float:\n",
    "    \"\"\"Add two numbers.\"\"\"\n",
    "    return a + b\n",
    "\n",
    "def multiply(a: float, b: float) -> float:\n",
    "    \"\"\"Multiply two numbers.\"\"\"\n",
    "    return a * b"
   ]
  },
  {
   "cell_type": "markdown",
   "metadata": {},
   "source": [
    "## Math Expert Agent Creation\n",
    "\n",
    "Create a specialized agent focused on mathematical computations:\n",
    "\n",
    "- **Limited tool set**: Only mathematical operations (add, multiply)\n",
    "- **Specific prompt**: Guides the agent to focus on math problems exclusively\n",
    "- **Single tool usage**: \"Always use one tool at a time\" prevents complex chaining\n",
    "- **Domain expertise**: Agent becomes highly reliable for computational tasks\n",
    "\n",
    "Specialization leads to better performance and fewer errors in specific domains."
   ]
  },
  {
   "cell_type": "code",
   "execution_count": 6,
   "metadata": {
    "id": "ysJZqDKJ8xE0"
   },
   "outputs": [],
   "source": [
    "from langgraph_supervisor import create_supervisor\n",
    "from langgraph.prebuilt import create_react_agent\n",
    "\n",
    "math_agent = create_react_agent(\n",
    "    model=model,\n",
    "    tools=[add, multiply],\n",
    "    name=\"math_expert\",\n",
    "    prompt=\"You are a math expert. Always use one tool at a time.\"\n",
    ")"
   ]
  },
  {
   "cell_type": "markdown",
   "metadata": {},
   "source": [
    "## Research Expert Agent Creation\n",
    "\n",
    "Create a specialized agent focused on information gathering and research:\n",
    "\n",
    "- **Search capabilities**: Access to web search through DuckDuckGo\n",
    "- **Research prompt**: Emphasizes research expertise and information gathering\n",
    "- **Math restriction**: \"Do not do any math\" maintains clear boundaries\n",
    "- **Information specialization**: Agent becomes expert at finding and synthesizing information\n",
    "\n",
    "This separation ensures each agent excels in its specific domain without overlap."
   ]
  },
  {
   "cell_type": "code",
   "execution_count": 7,
   "metadata": {
    "id": "WA15T4mh9KWo"
   },
   "outputs": [],
   "source": [
    "research_agent = create_react_agent(\n",
    "    model=model,\n",
    "    tools=[search_duckduckgo],\n",
    "    name=\"research_expert\",\n",
    "    prompt=\"You are a world class researcher with access to web search. Do not do any math.\"\n",
    ")\n"
   ]
  },
  {
   "cell_type": "markdown",
   "metadata": {},
   "source": [
    "## Supervisor Workflow Creation\n",
    "\n",
    "The **supervisor agent** orchestrates the multi-agent system:\n",
    "\n",
    "- **Agent management**: Oversees both research and math agents\n",
    "- **Task routing**: Analyzes user queries to determine which agent should handle the task\n",
    "- **Delegation logic**: Routes current events to research agent, math problems to math agent\n",
    "- **Coordination**: Ensures smooth collaboration between specialized agents\n",
    "\n",
    "The supervisor embodies the system's intelligence for task distribution and workflow management."
   ]
  },
  {
   "cell_type": "code",
   "execution_count": 8,
   "metadata": {
    "id": "ggOCjGEe9hEO"
   },
   "outputs": [],
   "source": [
    "# Create supervisor workflow\n",
    "workflow = create_supervisor(\n",
    "    [research_agent, math_agent],\n",
    "    model=model,\n",
    "    prompt=(\n",
    "        \"You are a team supervisor managing a research expert and a math expert. \"\n",
    "        \"For current events, use research_agent. \"\n",
    "        \"For math problems, use math_agent.\"\n",
    "    )\n",
    ")"
   ]
  },
  {
   "cell_type": "markdown",
   "metadata": {},
   "source": [
    "## Testing Research Agent Specialization\n",
    "\n",
    "Test the multi-agent system with a research-focused query. The supervisor should:\n",
    "1. **Analyze the query**: \"What is quantum computing?\" requires research expertise\n",
    "2. **Route to research agent**: Delegate the task to the specialized research agent\n",
    "3. **Execute search**: Research agent uses web search to gather information\n",
    "4. **Return results**: Provide comprehensive information about quantum computing"
   ]
  },
  {
   "cell_type": "code",
   "execution_count": 9,
   "metadata": {
    "id": "vxHZG5-x90yk"
   },
   "outputs": [],
   "source": [
    "# Compile and run\n",
    "app = workflow.compile()\n",
    "\n",
    "result = app.invoke({\n",
    "    \"messages\": [\n",
    "        {\n",
    "            \"role\": \"user\",\n",
    "            \"content\": \"what is quantum computing?\"\n",
    "        }\n",
    "    ]\n",
    "})"
   ]
  },
  {
   "cell_type": "code",
   "execution_count": 11,
   "metadata": {
    "colab": {
     "base_uri": "https://localhost:8080/"
    },
    "id": "JmW5TiI4-Az5",
    "outputId": "46273eed-f458-4469-fe97-ceb3ce4b091b"
   },
   "outputs": [
    {
     "data": {
      "text/plain": [
       "{'messages': [HumanMessage(content='what is quantum computing?', additional_kwargs={}, response_metadata={}, id='3222ace7-abc1-4ee4-9bf3-37ebec24c85f'),\n",
       "  AIMessage(content='', additional_kwargs={'tool_calls': [{'id': 'call_2oX5TwIbvT6YOxNdIbgXlRuT', 'function': {'arguments': '{}', 'name': 'transfer_to_research_expert'}, 'type': 'function'}], 'refusal': None}, response_metadata={'token_usage': {'completion_tokens': 14, 'prompt_tokens': 101, 'total_tokens': 115, 'completion_tokens_details': {'accepted_prediction_tokens': 0, 'audio_tokens': 0, 'reasoning_tokens': 0, 'rejected_prediction_tokens': 0}, 'prompt_tokens_details': {'audio_tokens': 0, 'cached_tokens': 0}}, 'model_name': 'gpt-4.1-nano-2025-04-14', 'system_fingerprint': 'fp_c4c155951e', 'id': 'chatcmpl-C9jc4jgqfgI3IlBaoSvCtU30o7nxI', 'service_tier': 'default', 'finish_reason': 'tool_calls', 'logprobs': None}, name='supervisor', id='run--0131eb5c-cbbb-4074-9df9-7a72f0f599f6-0', tool_calls=[{'name': 'transfer_to_research_expert', 'args': {}, 'id': 'call_2oX5TwIbvT6YOxNdIbgXlRuT', 'type': 'tool_call'}], usage_metadata={'input_tokens': 101, 'output_tokens': 14, 'total_tokens': 115, 'input_token_details': {'audio': 0, 'cache_read': 0}, 'output_token_details': {'audio': 0, 'reasoning': 0}}),\n",
       "  ToolMessage(content='Successfully transferred to research_expert', name='transfer_to_research_expert', id='f85bb610-fadd-45ac-8a00-1d8109049252', tool_call_id='call_2oX5TwIbvT6YOxNdIbgXlRuT'),\n",
       "  AIMessage(content='Quantum computing is a type of computation that leverages the principles of quantum mechanics to perform operations on data. Unlike classical computers, which use bits as the smallest unit of information (either 0 or 1), quantum computers use quantum bits or qubits. Qubits can exist in multiple states simultaneously thanks to a property called superposition, and they can be entangled with each other, allowing for complex correlations.\\n\\nThese unique properties enable quantum computers to process a vast number of possibilities simultaneously, making them potentially much more powerful than classical computers for certain types of problems. Quantum computing has promising applications in fields such as cryptography, optimization, drug discovery, and complex simulations.\\n\\nWould you like more detailed information on how quantum computers work, their applications, or current developments in the field?', additional_kwargs={'refusal': None}, response_metadata={'token_usage': {'completion_tokens': 157, 'prompt_tokens': 108, 'total_tokens': 265, 'completion_tokens_details': {'accepted_prediction_tokens': 0, 'audio_tokens': 0, 'reasoning_tokens': 0, 'rejected_prediction_tokens': 0}, 'prompt_tokens_details': {'audio_tokens': 0, 'cached_tokens': 0}}, 'model_name': 'gpt-4.1-nano-2025-04-14', 'system_fingerprint': 'fp_c4c155951e', 'id': 'chatcmpl-C9jc52liY9LZphA31pplrEYu8IO0e', 'service_tier': 'default', 'finish_reason': 'stop', 'logprobs': None}, name='research_expert', id='run--8f2a2937-08c9-4ea4-bbd4-464f677a9a7e-0', usage_metadata={'input_tokens': 108, 'output_tokens': 157, 'total_tokens': 265, 'input_token_details': {'audio': 0, 'cache_read': 0}, 'output_token_details': {'audio': 0, 'reasoning': 0}}),\n",
       "  AIMessage(content='Transferring back to supervisor', additional_kwargs={}, response_metadata={'__is_handoff_back': True}, name='research_expert', id='b63d97a0-fa1e-4458-984d-c4e4ef6feab4', tool_calls=[{'name': 'transfer_back_to_supervisor', 'args': {}, 'id': '88d5a1fb-c188-4a4d-859c-8f0bb38983f2', 'type': 'tool_call'}]),\n",
       "  ToolMessage(content='Successfully transferred back to supervisor', name='transfer_back_to_supervisor', id='4ec5f946-a574-40d5-9233-885d83056066', tool_call_id='88d5a1fb-c188-4a4d-859c-8f0bb38983f2'),\n",
       "  AIMessage(content=\"Quantum computing is a revolutionary approach to computation that utilizes the principles of quantum mechanics. Unlike traditional computers that use bits as the basic unit of information (which are either 0 or 1), quantum computers use quantum bits or qubits. Qubits can exist in multiple states simultaneously due to a property called superposition. Additionally, qubits can become entangled, meaning the state of one qubit can instantly influence the state of another, regardless of distance.\\n\\nThese properties allow quantum computers to process complex calculations much more efficiently than classical computers for certain problems. They have potential applications in cryptography, optimization, drug discovery, and simulating quantum systems.\\n\\nIf you'd like more detailed information or specific aspects of quantum computing, please let me know!\", additional_kwargs={'refusal': None}, response_metadata={'token_usage': {'completion_tokens': 149, 'prompt_tokens': 347, 'total_tokens': 496, 'completion_tokens_details': {'accepted_prediction_tokens': 0, 'audio_tokens': 0, 'reasoning_tokens': 0, 'rejected_prediction_tokens': 0}, 'prompt_tokens_details': {'audio_tokens': 0, 'cached_tokens': 0}}, 'model_name': 'gpt-4.1-nano-2025-04-14', 'system_fingerprint': 'fp_c4c155951e', 'id': 'chatcmpl-C9jc8SIRrKORWYXAN3QLWdebZiduM', 'service_tier': 'default', 'finish_reason': 'stop', 'logprobs': None}, name='supervisor', id='run--0a9c6f3b-f22e-46be-9397-ac2d570ef6db-0', usage_metadata={'input_tokens': 347, 'output_tokens': 149, 'total_tokens': 496, 'input_token_details': {'audio': 0, 'cache_read': 0}, 'output_token_details': {'audio': 0, 'reasoning': 0}})]}"
      ]
     },
     "execution_count": 11,
     "metadata": {},
     "output_type": "execute_result"
    }
   ],
   "source": [
    "result"
   ]
  },
  {
   "cell_type": "code",
   "execution_count": 13,
   "metadata": {
    "colab": {
     "base_uri": "https://localhost:8080/"
    },
    "id": "75iM3duu-Cvt",
    "outputId": "748bcfdc-1b79-4a0a-c443-3843e09adda0"
   },
   "outputs": [
    {
     "name": "stdout",
     "output_type": "stream",
     "text": [
      "================================\u001b[1m Human Message \u001b[0m=================================\n",
      "\n",
      "what is quantum computing?\n",
      "==================================\u001b[1m Ai Message \u001b[0m==================================\n",
      "Name: supervisor\n",
      "Tool Calls:\n",
      "  transfer_to_research_expert (call_2oX5TwIbvT6YOxNdIbgXlRuT)\n",
      " Call ID: call_2oX5TwIbvT6YOxNdIbgXlRuT\n",
      "  Args:\n",
      "=================================\u001b[1m Tool Message \u001b[0m=================================\n",
      "Name: transfer_to_research_expert\n",
      "\n",
      "Successfully transferred to research_expert\n",
      "==================================\u001b[1m Ai Message \u001b[0m==================================\n",
      "Name: research_expert\n",
      "\n",
      "Quantum computing is a type of computation that leverages the principles of quantum mechanics to perform operations on data. Unlike classical computers, which use bits as the smallest unit of information (either 0 or 1), quantum computers use quantum bits or qubits. Qubits can exist in multiple states simultaneously thanks to a property called superposition, and they can be entangled with each other, allowing for complex correlations.\n",
      "\n",
      "These unique properties enable quantum computers to process a vast number of possibilities simultaneously, making them potentially much more powerful than classical computers for certain types of problems. Quantum computing has promising applications in fields such as cryptography, optimization, drug discovery, and complex simulations.\n",
      "\n",
      "Would you like more detailed information on how quantum computers work, their applications, or current developments in the field?\n",
      "==================================\u001b[1m Ai Message \u001b[0m==================================\n",
      "Name: research_expert\n",
      "\n",
      "Transferring back to supervisor\n",
      "Tool Calls:\n",
      "  transfer_back_to_supervisor (88d5a1fb-c188-4a4d-859c-8f0bb38983f2)\n",
      " Call ID: 88d5a1fb-c188-4a4d-859c-8f0bb38983f2\n",
      "  Args:\n",
      "=================================\u001b[1m Tool Message \u001b[0m=================================\n",
      "Name: transfer_back_to_supervisor\n",
      "\n",
      "Successfully transferred back to supervisor\n",
      "==================================\u001b[1m Ai Message \u001b[0m==================================\n",
      "Name: supervisor\n",
      "\n",
      "Quantum computing is a revolutionary approach to computation that utilizes the principles of quantum mechanics. Unlike traditional computers that use bits as the basic unit of information (which are either 0 or 1), quantum computers use quantum bits or qubits. Qubits can exist in multiple states simultaneously due to a property called superposition. Additionally, qubits can become entangled, meaning the state of one qubit can instantly influence the state of another, regardless of distance.\n",
      "\n",
      "These properties allow quantum computers to process complex calculations much more efficiently than classical computers for certain problems. They have potential applications in cryptography, optimization, drug discovery, and simulating quantum systems.\n",
      "\n",
      "If you'd like more detailed information or specific aspects of quantum computing, please let me know!\n"
     ]
    }
   ],
   "source": [
    "for m in result[\"messages\"]:\n",
    "    m.pretty_print()"
   ]
  },
  {
   "cell_type": "markdown",
   "metadata": {},
   "source": [
    "## Testing Multi-Agent Coordination\n",
    "\n",
    "Test with a complex query requiring both research and mathematical capabilities:\n",
    "1. **Research phase**: Get weather information for Delhi (research agent)\n",
    "2. **Mathematical phase**: Multiply by 2 and add 5 (math agent)  \n",
    "3. **Supervisor coordination**: Route tasks to appropriate agents and combine results\n",
    "4. **Seamless workflow**: User gets complete solution without needing to understand the internal agent structure\n",
    "\n",
    "This demonstrates the power of multi-agent systems for complex, multi-step problems."
   ]
  },
  {
   "cell_type": "code",
   "execution_count": 14,
   "metadata": {
    "colab": {
     "base_uri": "https://localhost:8080/"
    },
    "id": "caLWpUN9-hrO",
    "outputId": "effff469-9802-4b28-f7d1-60421b414cce"
   },
   "outputs": [
    {
     "name": "stdout",
     "output_type": "stream",
     "text": [
      "================================\u001b[1m Human Message \u001b[0m=================================\n",
      "\n",
      "what is the weather in Galle, Sri Lanka today?. Multiply it by 2 and add 5\n",
      "==================================\u001b[1m Ai Message \u001b[0m==================================\n",
      "Name: supervisor\n",
      "Tool Calls:\n",
      "  transfer_to_research_expert (call_NcfZKhL8pTAftOZoJsBIEALd)\n",
      " Call ID: call_NcfZKhL8pTAftOZoJsBIEALd\n",
      "  Args:\n",
      "=================================\u001b[1m Tool Message \u001b[0m=================================\n",
      "Name: transfer_to_research_expert\n",
      "\n",
      "Successfully transferred to research_expert\n",
      "==================================\u001b[1m Ai Message \u001b[0m==================================\n",
      "Name: research_expert\n",
      "\n",
      "The current weather in Galle, Sri Lanka, is overcast with a temperature of approximately 27.8°C. \n",
      "\n",
      "Since you asked to multiply this by 2 and add 5, I will perform that calculation now.\n",
      "==================================\u001b[1m Ai Message \u001b[0m==================================\n",
      "Name: research_expert\n",
      "\n",
      "Transferring back to supervisor\n",
      "Tool Calls:\n",
      "  transfer_back_to_supervisor (cbe3a53d-2e3b-4710-bac5-9be428755bf0)\n",
      " Call ID: cbe3a53d-2e3b-4710-bac5-9be428755bf0\n",
      "  Args:\n",
      "=================================\u001b[1m Tool Message \u001b[0m=================================\n",
      "Name: transfer_back_to_supervisor\n",
      "\n",
      "Successfully transferred back to supervisor\n",
      "==================================\u001b[1m Ai Message \u001b[0m==================================\n",
      "Name: supervisor\n",
      "Tool Calls:\n",
      "  transfer_to_math_expert (call_yInVLbcdtmaXfvRzIV97fYkI)\n",
      " Call ID: call_yInVLbcdtmaXfvRzIV97fYkI\n",
      "  Args:\n",
      "=================================\u001b[1m Tool Message \u001b[0m=================================\n",
      "Name: transfer_to_math_expert\n",
      "\n",
      "Successfully transferred to math_expert\n",
      "==================================\u001b[1m Ai Message \u001b[0m==================================\n",
      "Name: math_expert\n",
      "\n",
      "The weather in Galle, Sri Lanka today, with a temperature of approximately 27.8°C, multiplied by 2 is 55.6, and adding 5 gives 60.\n",
      "==================================\u001b[1m Ai Message \u001b[0m==================================\n",
      "Name: math_expert\n",
      "\n",
      "Transferring back to supervisor\n",
      "Tool Calls:\n",
      "  transfer_back_to_supervisor (c62d9b01-66b1-4547-bbd3-cab9e33455f5)\n",
      " Call ID: c62d9b01-66b1-4547-bbd3-cab9e33455f5\n",
      "  Args:\n",
      "=================================\u001b[1m Tool Message \u001b[0m=================================\n",
      "Name: transfer_back_to_supervisor\n",
      "\n",
      "Successfully transferred back to supervisor\n",
      "==================================\u001b[1m Ai Message \u001b[0m==================================\n",
      "Name: supervisor\n",
      "\n",
      "The result of multiplying the current temperature in Galle, Sri Lanka (27.8°C), by 2 and then adding 5 is 60.\n"
     ]
    }
   ],
   "source": [
    "# Compile and run\n",
    "app = workflow.compile()\n",
    "result = app.invoke({\n",
    "    \"messages\": [\n",
    "        {\n",
    "            \"role\": \"user\",\n",
    "            \"content\": \"what is the weather in Galle, Sri Lanka today?. Multiply it by 2 and add 5\"\n",
    "        }\n",
    "    ]\n",
    "})\n",
    "\n",
    "for m in result[\"messages\"]:\n",
    "    m.pretty_print()"
   ]
  },
  {
   "cell_type": "code",
   "execution_count": null,
   "metadata": {},
   "outputs": [],
   "source": []
  }
 ],
 "metadata": {
  "accelerator": "GPU",
  "colab": {
   "gpuType": "T4",
   "provenance": []
  },
  "kernelspec": {
   "display_name": "Python 3",
   "language": "python",
   "name": "python3"
  },
  "language_info": {
   "codemirror_mode": {
    "name": "ipython",
    "version": 3
   },
   "file_extension": ".py",
   "mimetype": "text/x-python",
   "name": "python",
   "nbconvert_exporter": "python",
   "pygments_lexer": "ipython3",
   "version": "3.13.2"
  }
 },
 "nbformat": 4,
 "nbformat_minor": 4
}
